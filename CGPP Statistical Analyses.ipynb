{
 "cells": [
  {
   "cell_type": "code",
   "execution_count": 1,
   "id": "8e632f97-7649-4051-9846-cd2e3058f657",
   "metadata": {
    "tags": []
   },
   "outputs": [],
   "source": [
    "import pandas as pd\n",
    "import numpy as np\n",
    "import matplotlib.pyplot as plt\n",
    "import seaborn as sns\n",
    "import statsmodels.api as sm\n",
    "import statsmodels.tsa.api as tsa\n",
    "import statsmodels.formula.api as smf\n",
    "from statsmodels.sandbox.regression.gmm import IV2SLS\n",
    "\n",
    "from stargazer.stargazer import Stargazer, LineLocation\n",
    "\n",
    "import warnings\n",
    "warnings.filterwarnings(\"ignore\")\n",
    "plt.rcParams[\"figure.figsize\"] = (15,10)"
   ]
  },
  {
   "cell_type": "code",
   "execution_count": 2,
   "id": "d2dfa88f-ba80-43f7-9473-3ae7da3c4acb",
   "metadata": {
    "tags": []
   },
   "outputs": [
    {
     "data": {
      "text/html": [
       "<div>\n",
       "<style scoped>\n",
       "    .dataframe tbody tr th:only-of-type {\n",
       "        vertical-align: middle;\n",
       "    }\n",
       "\n",
       "    .dataframe tbody tr th {\n",
       "        vertical-align: top;\n",
       "    }\n",
       "\n",
       "    .dataframe thead th {\n",
       "        text-align: right;\n",
       "    }\n",
       "</style>\n",
       "<table border=\"1\" class=\"dataframe\">\n",
       "  <thead>\n",
       "    <tr style=\"text-align: right;\">\n",
       "      <th></th>\n",
       "      <th>medication</th>\n",
       "      <th>brand_name</th>\n",
       "      <th>form</th>\n",
       "      <th>retail_price</th>\n",
       "      <th>CP_price</th>\n",
       "    </tr>\n",
       "  </thead>\n",
       "  <tbody>\n",
       "    <tr>\n",
       "      <th>0</th>\n",
       "      <td>Abacavir / Lamivudine (Generic for Epzicom)</td>\n",
       "      <td>Epzicom</td>\n",
       "      <td>Tablet</td>\n",
       "      <td>1096.10</td>\n",
       "      <td>71.40</td>\n",
       "    </tr>\n",
       "    <tr>\n",
       "      <th>1</th>\n",
       "      <td>Abiraterone Acetate (Generic for Zytiga)</td>\n",
       "      <td>Zytiga</td>\n",
       "      <td>Tablet</td>\n",
       "      <td>1093.20</td>\n",
       "      <td>36.60</td>\n",
       "    </tr>\n",
       "    <tr>\n",
       "      <th>2</th>\n",
       "      <td>Acarbose (Generic for Precose)</td>\n",
       "      <td>Precose</td>\n",
       "      <td>Tablet</td>\n",
       "      <td>43.20</td>\n",
       "      <td>7.50</td>\n",
       "    </tr>\n",
       "    <tr>\n",
       "      <th>3</th>\n",
       "      <td>Accu-Chek Guide Me Meter for Diabetic Blood Gl...</td>\n",
       "      <td>NaN</td>\n",
       "      <td>Kit</td>\n",
       "      <td>29.99</td>\n",
       "      <td>10.76</td>\n",
       "    </tr>\n",
       "    <tr>\n",
       "      <th>4</th>\n",
       "      <td>Accu-Chek Guide Test Strips for Diabetic Blood...</td>\n",
       "      <td>NaN</td>\n",
       "      <td>Test Strips</td>\n",
       "      <td>29.99</td>\n",
       "      <td>16.79</td>\n",
       "    </tr>\n",
       "  </tbody>\n",
       "</table>\n",
       "</div>"
      ],
      "text/plain": [
       "                                          medication brand_name         form  \\\n",
       "0        Abacavir / Lamivudine (Generic for Epzicom)    Epzicom       Tablet   \n",
       "1           Abiraterone Acetate (Generic for Zytiga)     Zytiga       Tablet   \n",
       "2                     Acarbose (Generic for Precose)    Precose       Tablet   \n",
       "3  Accu-Chek Guide Me Meter for Diabetic Blood Gl...        NaN          Kit   \n",
       "4  Accu-Chek Guide Test Strips for Diabetic Blood...        NaN  Test Strips   \n",
       "\n",
       "   retail_price  CP_price  \n",
       "0       1096.10     71.40  \n",
       "1       1093.20     36.60  \n",
       "2         43.20      7.50  \n",
       "3         29.99     10.76  \n",
       "4         29.99     16.79  "
      ]
     },
     "execution_count": 2,
     "metadata": {},
     "output_type": "execute_result"
    }
   ],
   "source": [
    "costplus = pd.read_csv(\"C:\\\\Users\\\\ttrap\\\\Desktop\\\\ECON 191\\\\costplus.csv\")\n",
    "costplus.head()"
   ]
  },
  {
   "cell_type": "code",
   "execution_count": 3,
   "id": "252af3b7-f130-420f-a81b-b896a8ea4b91",
   "metadata": {
    "tags": []
   },
   "outputs": [
    {
     "data": {
      "text/html": [
       "<div>\n",
       "<style scoped>\n",
       "    .dataframe tbody tr th:only-of-type {\n",
       "        vertical-align: middle;\n",
       "    }\n",
       "\n",
       "    .dataframe tbody tr th {\n",
       "        vertical-align: top;\n",
       "    }\n",
       "\n",
       "    .dataframe thead th {\n",
       "        text-align: right;\n",
       "    }\n",
       "</style>\n",
       "<table border=\"1\" class=\"dataframe\">\n",
       "  <thead>\n",
       "    <tr style=\"text-align: right;\">\n",
       "      <th></th>\n",
       "      <th>NDC Description</th>\n",
       "      <th>NDC</th>\n",
       "      <th>NADAC_Per_Unit</th>\n",
       "      <th>Effective_Date</th>\n",
       "      <th>Pricing_Unit</th>\n",
       "      <th>Pharmacy_Type_Indicator</th>\n",
       "      <th>OTC</th>\n",
       "      <th>Explanation_Code</th>\n",
       "      <th>Classification_for_Rate_Setting</th>\n",
       "      <th>Corresponding_Generic_Drug_NADAC_Per_Unit</th>\n",
       "      <th>Corresponding_Generic_Drug_Effective_Date</th>\n",
       "      <th>As of Date</th>\n",
       "    </tr>\n",
       "  </thead>\n",
       "  <tbody>\n",
       "    <tr>\n",
       "      <th>0</th>\n",
       "      <td>ENEMA</td>\n",
       "      <td>00536741551</td>\n",
       "      <td>0.00585</td>\n",
       "      <td>12/19/2018</td>\n",
       "      <td>ML</td>\n",
       "      <td>C/I</td>\n",
       "      <td>Y</td>\n",
       "      <td>1, 5</td>\n",
       "      <td>G</td>\n",
       "      <td>NaN</td>\n",
       "      <td>NaN</td>\n",
       "      <td>01/02/2019</td>\n",
       "    </tr>\n",
       "    <tr>\n",
       "      <th>1</th>\n",
       "      <td>PHENTERMINE 30 MG CAPSULE</td>\n",
       "      <td>51224020250</td>\n",
       "      <td>0.14840</td>\n",
       "      <td>12/19/2018</td>\n",
       "      <td>EA</td>\n",
       "      <td>C/I</td>\n",
       "      <td>N</td>\n",
       "      <td>1</td>\n",
       "      <td>G</td>\n",
       "      <td>NaN</td>\n",
       "      <td>NaN</td>\n",
       "      <td>01/02/2019</td>\n",
       "    </tr>\n",
       "    <tr>\n",
       "      <th>2</th>\n",
       "      <td>PENICILLIN VK 125 MG/5 ML SOLN</td>\n",
       "      <td>00093412573</td>\n",
       "      <td>0.06240</td>\n",
       "      <td>11/21/2018</td>\n",
       "      <td>ML</td>\n",
       "      <td>C/I</td>\n",
       "      <td>N</td>\n",
       "      <td>4, 5</td>\n",
       "      <td>G</td>\n",
       "      <td>NaN</td>\n",
       "      <td>NaN</td>\n",
       "      <td>01/02/2019</td>\n",
       "    </tr>\n",
       "    <tr>\n",
       "      <th>3</th>\n",
       "      <td>IRBESARTAN-HYDROCHLOROTHIAZIDE 150-12.5 MG TB</td>\n",
       "      <td>43547033009</td>\n",
       "      <td>0.18722</td>\n",
       "      <td>12/19/2018</td>\n",
       "      <td>EA</td>\n",
       "      <td>C/I</td>\n",
       "      <td>N</td>\n",
       "      <td>1</td>\n",
       "      <td>G</td>\n",
       "      <td>NaN</td>\n",
       "      <td>NaN</td>\n",
       "      <td>01/02/2019</td>\n",
       "    </tr>\n",
       "    <tr>\n",
       "      <th>4</th>\n",
       "      <td>AMOX-CLAV 875-125 MG TABLET</td>\n",
       "      <td>00781185220</td>\n",
       "      <td>0.31259</td>\n",
       "      <td>12/19/2018</td>\n",
       "      <td>EA</td>\n",
       "      <td>C/I</td>\n",
       "      <td>N</td>\n",
       "      <td>1</td>\n",
       "      <td>G</td>\n",
       "      <td>NaN</td>\n",
       "      <td>NaN</td>\n",
       "      <td>01/02/2019</td>\n",
       "    </tr>\n",
       "  </tbody>\n",
       "</table>\n",
       "</div>"
      ],
      "text/plain": [
       "                                 NDC Description          NDC  NADAC_Per_Unit  \\\n",
       "0                                          ENEMA  00536741551         0.00585   \n",
       "1                      PHENTERMINE 30 MG CAPSULE  51224020250         0.14840   \n",
       "2                 PENICILLIN VK 125 MG/5 ML SOLN  00093412573         0.06240   \n",
       "3  IRBESARTAN-HYDROCHLOROTHIAZIDE 150-12.5 MG TB  43547033009         0.18722   \n",
       "4                    AMOX-CLAV 875-125 MG TABLET  00781185220         0.31259   \n",
       "\n",
       "  Effective_Date Pricing_Unit Pharmacy_Type_Indicator OTC Explanation_Code  \\\n",
       "0     12/19/2018           ML                     C/I   Y             1, 5   \n",
       "1     12/19/2018           EA                     C/I   N                1   \n",
       "2     11/21/2018           ML                     C/I   N             4, 5   \n",
       "3     12/19/2018           EA                     C/I   N                1   \n",
       "4     12/19/2018           EA                     C/I   N                1   \n",
       "\n",
       "  Classification_for_Rate_Setting  Corresponding_Generic_Drug_NADAC_Per_Unit  \\\n",
       "0                               G                                        NaN   \n",
       "1                               G                                        NaN   \n",
       "2                               G                                        NaN   \n",
       "3                               G                                        NaN   \n",
       "4                               G                                        NaN   \n",
       "\n",
       "  Corresponding_Generic_Drug_Effective_Date  As of Date  \n",
       "0                                       NaN  01/02/2019  \n",
       "1                                       NaN  01/02/2019  \n",
       "2                                       NaN  01/02/2019  \n",
       "3                                       NaN  01/02/2019  \n",
       "4                                       NaN  01/02/2019  "
      ]
     },
     "execution_count": 3,
     "metadata": {},
     "output_type": "execute_result"
    }
   ],
   "source": [
    "nadac = pd.read_csv(\"C:\\\\Users\\\\ttrap\\\\Desktop\\\\ECON 191\\\\nadac_2019.csv\", dtype = {'NDC': str})\n",
    "nadac.head()"
   ]
  },
  {
   "cell_type": "code",
   "execution_count": 4,
   "id": "b82934cf-fe25-444d-bace-a5ce7d235e47",
   "metadata": {
    "tags": []
   },
   "outputs": [
    {
     "data": {
      "text/html": [
       "<div>\n",
       "<style scoped>\n",
       "    .dataframe tbody tr th:only-of-type {\n",
       "        vertical-align: middle;\n",
       "    }\n",
       "\n",
       "    .dataframe tbody tr th {\n",
       "        vertical-align: top;\n",
       "    }\n",
       "\n",
       "    .dataframe thead th {\n",
       "        text-align: right;\n",
       "    }\n",
       "</style>\n",
       "<table border=\"1\" class=\"dataframe\">\n",
       "  <thead>\n",
       "    <tr style=\"text-align: right;\">\n",
       "      <th></th>\n",
       "      <th>Brnd_Name</th>\n",
       "      <th>Gnrc_Name</th>\n",
       "      <th>Tot_Mftr</th>\n",
       "      <th>Mftr_Name</th>\n",
       "      <th>Year</th>\n",
       "      <th>Tot_Spndng</th>\n",
       "      <th>Tot_Dsg_Unts</th>\n",
       "      <th>Tot_Clms</th>\n",
       "      <th>Avg_Spnd_Per_Dsg_Unt_Wghtd</th>\n",
       "      <th>Avg_Spnd_Per_Clm</th>\n",
       "      <th>Outlier_Flag</th>\n",
       "    </tr>\n",
       "  </thead>\n",
       "  <tbody>\n",
       "    <tr>\n",
       "      <th>0</th>\n",
       "      <td>8hr Arthritis Pain</td>\n",
       "      <td>Acetaminophen</td>\n",
       "      <td>1</td>\n",
       "      <td>Overall</td>\n",
       "      <td>2017</td>\n",
       "      <td>0.00</td>\n",
       "      <td>0.0</td>\n",
       "      <td>0.0</td>\n",
       "      <td>0.000000</td>\n",
       "      <td>0.000000</td>\n",
       "      <td>0.0</td>\n",
       "    </tr>\n",
       "    <tr>\n",
       "      <th>1</th>\n",
       "      <td>8hr Arthritis Pain</td>\n",
       "      <td>Acetaminophen</td>\n",
       "      <td>1</td>\n",
       "      <td>Overall</td>\n",
       "      <td>2018</td>\n",
       "      <td>0.00</td>\n",
       "      <td>0.0</td>\n",
       "      <td>0.0</td>\n",
       "      <td>0.000000</td>\n",
       "      <td>0.000000</td>\n",
       "      <td>0.0</td>\n",
       "    </tr>\n",
       "    <tr>\n",
       "      <th>2</th>\n",
       "      <td>8hr Arthritis Pain</td>\n",
       "      <td>Acetaminophen</td>\n",
       "      <td>1</td>\n",
       "      <td>Overall</td>\n",
       "      <td>2019</td>\n",
       "      <td>733.42</td>\n",
       "      <td>11256.0</td>\n",
       "      <td>140.0</td>\n",
       "      <td>0.065158</td>\n",
       "      <td>5.238714</td>\n",
       "      <td>1.0</td>\n",
       "    </tr>\n",
       "    <tr>\n",
       "      <th>3</th>\n",
       "      <td>8hr Arthritis Pain</td>\n",
       "      <td>Acetaminophen</td>\n",
       "      <td>1</td>\n",
       "      <td>Overall</td>\n",
       "      <td>2020</td>\n",
       "      <td>426.96</td>\n",
       "      <td>4459.0</td>\n",
       "      <td>46.0</td>\n",
       "      <td>0.095752</td>\n",
       "      <td>9.281739</td>\n",
       "      <td>1.0</td>\n",
       "    </tr>\n",
       "    <tr>\n",
       "      <th>4</th>\n",
       "      <td>8hr Arthritis Pain</td>\n",
       "      <td>Acetaminophen</td>\n",
       "      <td>1</td>\n",
       "      <td>Overall</td>\n",
       "      <td>2021</td>\n",
       "      <td>331.69</td>\n",
       "      <td>4642.0</td>\n",
       "      <td>54.0</td>\n",
       "      <td>0.071454</td>\n",
       "      <td>6.142407</td>\n",
       "      <td>1.0</td>\n",
       "    </tr>\n",
       "  </tbody>\n",
       "</table>\n",
       "</div>"
      ],
      "text/plain": [
       "            Brnd_Name      Gnrc_Name  Tot_Mftr Mftr_Name  Year  Tot_Spndng  \\\n",
       "0  8hr Arthritis Pain  Acetaminophen         1   Overall  2017        0.00   \n",
       "1  8hr Arthritis Pain  Acetaminophen         1   Overall  2018        0.00   \n",
       "2  8hr Arthritis Pain  Acetaminophen         1   Overall  2019      733.42   \n",
       "3  8hr Arthritis Pain  Acetaminophen         1   Overall  2020      426.96   \n",
       "4  8hr Arthritis Pain  Acetaminophen         1   Overall  2021      331.69   \n",
       "\n",
       "   Tot_Dsg_Unts  Tot_Clms  Avg_Spnd_Per_Dsg_Unt_Wghtd  Avg_Spnd_Per_Clm  \\\n",
       "0           0.0       0.0                    0.000000          0.000000   \n",
       "1           0.0       0.0                    0.000000          0.000000   \n",
       "2       11256.0     140.0                    0.065158          5.238714   \n",
       "3        4459.0      46.0                    0.095752          9.281739   \n",
       "4        4642.0      54.0                    0.071454          6.142407   \n",
       "\n",
       "   Outlier_Flag  \n",
       "0           0.0  \n",
       "1           0.0  \n",
       "2           1.0  \n",
       "3           1.0  \n",
       "4           1.0  "
      ]
     },
     "execution_count": 4,
     "metadata": {},
     "output_type": "execute_result"
    }
   ],
   "source": [
    "med_panel = pd.read_csv(\"C:\\\\Users\\\\ttrap\\\\Desktop\\\\ECON 191\\\\med_panel.csv\")\n",
    "med_panel.head()"
   ]
  },
  {
   "cell_type": "markdown",
   "id": "edfd67ed-5e5d-4ce7-aaf8-e05c4d9334e3",
   "metadata": {},
   "source": [
    "## Percent Change in NADAC of Brand Name and Generic"
   ]
  },
  {
   "cell_type": "code",
   "execution_count": 5,
   "id": "37dc350d-67ad-4c2f-be38-1cc3db85211a",
   "metadata": {
    "tags": []
   },
   "outputs": [],
   "source": [
    "#Dataframe of NADAC drugs with a corresponding generic\n",
    "#Caluclating the difference between the generic NADAC and brand name NADAC, as well as the percent change between them\n",
    "generics_intro = nadac[~(nadac['Corresponding_Generic_Drug_Effective_Date'].isnull())]\n",
    "generics_intro['nadac_diff'] = generics_intro['Corresponding_Generic_Drug_NADAC_Per_Unit'] - generics_intro['NADAC_Per_Unit'] \n",
    "generics_intro['nadac_percent_change'] = generics_intro['nadac_diff']/generics_intro['NADAC_Per_Unit']"
   ]
  },
  {
   "cell_type": "code",
   "execution_count": 6,
   "id": "1d87d9e1-d4ae-45f0-9b5e-022335ad8087",
   "metadata": {
    "tags": []
   },
   "outputs": [
    {
     "data": {
      "text/html": [
       "<div>\n",
       "<style scoped>\n",
       "    .dataframe tbody tr th:only-of-type {\n",
       "        vertical-align: middle;\n",
       "    }\n",
       "\n",
       "    .dataframe tbody tr th {\n",
       "        vertical-align: top;\n",
       "    }\n",
       "\n",
       "    .dataframe thead th {\n",
       "        text-align: right;\n",
       "    }\n",
       "</style>\n",
       "<table border=\"1\" class=\"dataframe\">\n",
       "  <thead>\n",
       "    <tr style=\"text-align: right;\">\n",
       "      <th></th>\n",
       "      <th>NDC Description</th>\n",
       "      <th>NDC</th>\n",
       "      <th>NADAC_Per_Unit</th>\n",
       "      <th>Corresponding_Generic_Drug_NADAC_Per_Unit</th>\n",
       "      <th>nadac_diff</th>\n",
       "      <th>nadac_percent_change</th>\n",
       "    </tr>\n",
       "  </thead>\n",
       "  <tbody>\n",
       "    <tr>\n",
       "      <th>0</th>\n",
       "      <td>ATIVAN 1 MG TABLET</td>\n",
       "      <td>00187006410</td>\n",
       "      <td>31.640337</td>\n",
       "      <td>0.040266</td>\n",
       "      <td>-31.600071</td>\n",
       "      <td>-0.998727</td>\n",
       "    </tr>\n",
       "    <tr>\n",
       "      <th>1</th>\n",
       "      <td>ATIVAN 1 MG TABLET</td>\n",
       "      <td>00187006401</td>\n",
       "      <td>31.640337</td>\n",
       "      <td>0.040266</td>\n",
       "      <td>-31.600071</td>\n",
       "      <td>-0.998727</td>\n",
       "    </tr>\n",
       "    <tr>\n",
       "      <th>2</th>\n",
       "      <td>ATIVAN 0.5 MG TABLET</td>\n",
       "      <td>00187006301</td>\n",
       "      <td>22.687410</td>\n",
       "      <td>0.029450</td>\n",
       "      <td>-22.657960</td>\n",
       "      <td>-0.998702</td>\n",
       "    </tr>\n",
       "    <tr>\n",
       "      <th>3</th>\n",
       "      <td>AMBIEN 5 MG TABLET</td>\n",
       "      <td>00024540131</td>\n",
       "      <td>16.917960</td>\n",
       "      <td>0.028688</td>\n",
       "      <td>-16.889272</td>\n",
       "      <td>-0.998304</td>\n",
       "    </tr>\n",
       "    <tr>\n",
       "      <th>4</th>\n",
       "      <td>MOBIC 15 MG TABLET</td>\n",
       "      <td>00597003001</td>\n",
       "      <td>12.363243</td>\n",
       "      <td>0.021021</td>\n",
       "      <td>-12.342223</td>\n",
       "      <td>-0.998300</td>\n",
       "    </tr>\n",
       "    <tr>\n",
       "      <th>...</th>\n",
       "      <td>...</td>\n",
       "      <td>...</td>\n",
       "      <td>...</td>\n",
       "      <td>...</td>\n",
       "      <td>...</td>\n",
       "      <td>...</td>\n",
       "    </tr>\n",
       "    <tr>\n",
       "      <th>1281</th>\n",
       "      <td>PACERONE 400 MG TABLET</td>\n",
       "      <td>00245014501</td>\n",
       "      <td>1.838530</td>\n",
       "      <td>3.003601</td>\n",
       "      <td>1.165071</td>\n",
       "      <td>0.633697</td>\n",
       "    </tr>\n",
       "    <tr>\n",
       "      <th>1282</th>\n",
       "      <td>RETIN-A 0.1% CREAM</td>\n",
       "      <td>00187516445</td>\n",
       "      <td>1.807655</td>\n",
       "      <td>3.131097</td>\n",
       "      <td>1.323442</td>\n",
       "      <td>0.743206</td>\n",
       "    </tr>\n",
       "    <tr>\n",
       "      <th>1283</th>\n",
       "      <td>DERMA-SMOOTHE-FS SCALP OIL</td>\n",
       "      <td>68791010204</td>\n",
       "      <td>0.283769</td>\n",
       "      <td>0.541236</td>\n",
       "      <td>0.257467</td>\n",
       "      <td>0.907289</td>\n",
       "    </tr>\n",
       "    <tr>\n",
       "      <th>1284</th>\n",
       "      <td>METHYLIN 10 MG/5 ML SOLUTION</td>\n",
       "      <td>59630075550</td>\n",
       "      <td>0.190640</td>\n",
       "      <td>0.364837</td>\n",
       "      <td>0.174197</td>\n",
       "      <td>0.913747</td>\n",
       "    </tr>\n",
       "    <tr>\n",
       "      <th>1285</th>\n",
       "      <td>DERMOTIC OIL 0.01% EAR DROPS</td>\n",
       "      <td>68791010320</td>\n",
       "      <td>1.355318</td>\n",
       "      <td>3.631927</td>\n",
       "      <td>2.276610</td>\n",
       "      <td>1.678817</td>\n",
       "    </tr>\n",
       "  </tbody>\n",
       "</table>\n",
       "<p>1286 rows × 6 columns</p>\n",
       "</div>"
      ],
      "text/plain": [
       "                   NDC Description          NDC  NADAC_Per_Unit  \\\n",
       "0               ATIVAN 1 MG TABLET  00187006410       31.640337   \n",
       "1               ATIVAN 1 MG TABLET  00187006401       31.640337   \n",
       "2             ATIVAN 0.5 MG TABLET  00187006301       22.687410   \n",
       "3               AMBIEN 5 MG TABLET  00024540131       16.917960   \n",
       "4               MOBIC 15 MG TABLET  00597003001       12.363243   \n",
       "...                            ...          ...             ...   \n",
       "1281        PACERONE 400 MG TABLET  00245014501        1.838530   \n",
       "1282            RETIN-A 0.1% CREAM  00187516445        1.807655   \n",
       "1283    DERMA-SMOOTHE-FS SCALP OIL  68791010204        0.283769   \n",
       "1284  METHYLIN 10 MG/5 ML SOLUTION  59630075550        0.190640   \n",
       "1285  DERMOTIC OIL 0.01% EAR DROPS  68791010320        1.355318   \n",
       "\n",
       "      Corresponding_Generic_Drug_NADAC_Per_Unit  nadac_diff  \\\n",
       "0                                      0.040266  -31.600071   \n",
       "1                                      0.040266  -31.600071   \n",
       "2                                      0.029450  -22.657960   \n",
       "3                                      0.028688  -16.889272   \n",
       "4                                      0.021021  -12.342223   \n",
       "...                                         ...         ...   \n",
       "1281                                   3.003601    1.165071   \n",
       "1282                                   3.131097    1.323442   \n",
       "1283                                   0.541236    0.257467   \n",
       "1284                                   0.364837    0.174197   \n",
       "1285                                   3.631927    2.276610   \n",
       "\n",
       "      nadac_percent_change  \n",
       "0                -0.998727  \n",
       "1                -0.998727  \n",
       "2                -0.998702  \n",
       "3                -0.998304  \n",
       "4                -0.998300  \n",
       "...                    ...  \n",
       "1281              0.633697  \n",
       "1282              0.743206  \n",
       "1283              0.907289  \n",
       "1284              0.913747  \n",
       "1285              1.678817  \n",
       "\n",
       "[1286 rows x 6 columns]"
      ]
     },
     "execution_count": 6,
     "metadata": {},
     "output_type": "execute_result"
    }
   ],
   "source": [
    "#Dataframe of generics_intro, grouping to control for duplicates\n",
    "#Taking the mean of NADAC related values to account for duplicates\n",
    "generics_i_uni = generics_intro.groupby(['NDC Description', 'NDC']).agg('mean').sort_values('nadac_percent_change')\n",
    "generics_i_uni = generics_i_uni.reset_index(level=['NDC Description', 'NDC'])\n",
    "generics_i_uni"
   ]
  },
  {
   "cell_type": "code",
   "execution_count": 7,
   "id": "d62cdfd9-14e8-4f18-8d70-e75c7a84ccaa",
   "metadata": {
    "tags": []
   },
   "outputs": [
    {
     "data": {
      "text/plain": [
       "(count    1286.000000\n",
       " mean       16.172719\n",
       " std        41.480554\n",
       " min         0.004627\n",
       " 25%         1.189129\n",
       " 50%         6.875232\n",
       " 75%        13.622058\n",
       " max       471.558810\n",
       " Name: NADAC_Per_Unit, dtype: float64,\n",
       " count    1286.000000\n",
       " mean        4.514114\n",
       " std        19.310159\n",
       " min         0.002872\n",
       " 25%         0.144370\n",
       " 50%         0.387976\n",
       " 75%         2.765549\n",
       " max       330.857843\n",
       " Name: Corresponding_Generic_Drug_NADAC_Per_Unit, dtype: float64,\n",
       " count    1286.000000\n",
       " mean       -0.695883\n",
       " std         0.291593\n",
       " min        -0.998727\n",
       " 25%        -0.956747\n",
       " 50%        -0.759704\n",
       " 75%        -0.499422\n",
       " max         1.678817\n",
       " Name: nadac_percent_change, dtype: float64)"
      ]
     },
     "execution_count": 7,
     "metadata": {},
     "output_type": "execute_result"
    }
   ],
   "source": [
    "#Numerical summary\n",
    "generics_i_uni['NADAC_Per_Unit'].describe(), generics_i_uni['Corresponding_Generic_Drug_NADAC_Per_Unit'].describe(), generics_i_uni['nadac_percent_change'].describe()"
   ]
  },
  {
   "cell_type": "markdown",
   "id": "3be6d2c3-6ff8-49a1-9dad-beae6f849f40",
   "metadata": {},
   "source": [
    "The numerical summaries indicate that all of these distributions are highly skewed right. In particular, the distributions of the NADACs have particularly high variances."
   ]
  },
  {
   "cell_type": "code",
   "execution_count": 8,
   "id": "b6cde758-c4e0-4bf3-971d-7b41bf83b4e9",
   "metadata": {
    "tags": []
   },
   "outputs": [
    {
     "data": {
      "text/plain": [
       "<AxesSubplot:xlabel='nadac_percent_change', ylabel='Density'>"
      ]
     },
     "execution_count": 8,
     "metadata": {},
     "output_type": "execute_result"
    },
    {
     "data": {
      "image/png": "[encoded data removed]",
      "text/plain": [
       "<Figure size 432x288 with 1 Axes>"
      ]
     },
     "metadata": {
      "needs_background": "light"
     },
     "output_type": "display_data"
    }
   ],
   "source": [
    "sns.histplot(x = generics_i_uni['nadac_percent_change'], stat = 'density')\n",
    "sns.kdeplot(generics_i_uni['nadac_percent_change'], color=\"r\")"
   ]
  },
  {
   "cell_type": "markdown",
   "id": "75beb1f0-212a-479e-94e7-e6b487f85b8f",
   "metadata": {},
   "source": [
    "The KDE plot shows that the data are highly right-skewed, indicating that while most drugs decrease in price when generics are introduced, a significant proportion of them experience a drastic decrease in price once the corresponding generic is introduced, indicated by the highest bar being around -1.0. Interestingly, some drugs have positive percent change values, which indicates that the NADAC increased for these drugs when generics were introduced. We can filter for and examine these:"
   ]
  },
  {
   "cell_type": "code",
   "execution_count": 9,
   "id": "aae7455c-0788-4255-9532-64c8452211a9",
   "metadata": {
    "tags": []
   },
   "outputs": [
    {
     "data": {
      "text/html": [
       "<div>\n",
       "<style scoped>\n",
       "    .dataframe tbody tr th:only-of-type {\n",
       "        vertical-align: middle;\n",
       "    }\n",
       "\n",
       "    .dataframe tbody tr th {\n",
       "        vertical-align: top;\n",
       "    }\n",
       "\n",
       "    .dataframe thead th {\n",
       "        text-align: right;\n",
       "    }\n",
       "</style>\n",
       "<table border=\"1\" class=\"dataframe\">\n",
       "  <thead>\n",
       "    <tr style=\"text-align: right;\">\n",
       "      <th></th>\n",
       "      <th>NDC Description</th>\n",
       "      <th>NDC</th>\n",
       "      <th>NADAC_Per_Unit</th>\n",
       "      <th>Corresponding_Generic_Drug_NADAC_Per_Unit</th>\n",
       "      <th>nadac_diff</th>\n",
       "      <th>nadac_percent_change</th>\n",
       "    </tr>\n",
       "  </thead>\n",
       "  <tbody>\n",
       "    <tr>\n",
       "      <th>1272</th>\n",
       "      <td>CARNITOR 100 MG/ML ORAL SOLN</td>\n",
       "      <td>54482014508</td>\n",
       "      <td>0.274550</td>\n",
       "      <td>0.291208</td>\n",
       "      <td>0.016658</td>\n",
       "      <td>0.060674</td>\n",
       "    </tr>\n",
       "    <tr>\n",
       "      <th>1278</th>\n",
       "      <td>LORCET HD 10-325 MG TABLET</td>\n",
       "      <td>51862058701</td>\n",
       "      <td>0.081194</td>\n",
       "      <td>0.115858</td>\n",
       "      <td>0.034664</td>\n",
       "      <td>0.445923</td>\n",
       "    </tr>\n",
       "    <tr>\n",
       "      <th>1279</th>\n",
       "      <td>LORCET HD 10-325 MG TABLET</td>\n",
       "      <td>51862058705</td>\n",
       "      <td>0.081194</td>\n",
       "      <td>0.115858</td>\n",
       "      <td>0.034664</td>\n",
       "      <td>0.445923</td>\n",
       "    </tr>\n",
       "    <tr>\n",
       "      <th>1277</th>\n",
       "      <td>DERMA-SMOOTHE-FS BODY OIL</td>\n",
       "      <td>68791010104</td>\n",
       "      <td>0.296230</td>\n",
       "      <td>0.393038</td>\n",
       "      <td>0.096808</td>\n",
       "      <td>0.326801</td>\n",
       "    </tr>\n",
       "    <tr>\n",
       "      <th>1274</th>\n",
       "      <td>PACERONE 100 MG TABLET</td>\n",
       "      <td>00245014430</td>\n",
       "      <td>1.890357</td>\n",
       "      <td>2.002333</td>\n",
       "      <td>0.111976</td>\n",
       "      <td>0.067075</td>\n",
       "    </tr>\n",
       "    <tr>\n",
       "      <th>1275</th>\n",
       "      <td>PACERONE 100 MG TABLET</td>\n",
       "      <td>00245014401</td>\n",
       "      <td>1.890357</td>\n",
       "      <td>2.002333</td>\n",
       "      <td>0.111976</td>\n",
       "      <td>0.067075</td>\n",
       "    </tr>\n",
       "    <tr>\n",
       "      <th>1284</th>\n",
       "      <td>METHYLIN 10 MG/5 ML SOLUTION</td>\n",
       "      <td>59630075550</td>\n",
       "      <td>0.190640</td>\n",
       "      <td>0.364837</td>\n",
       "      <td>0.174197</td>\n",
       "      <td>0.913747</td>\n",
       "    </tr>\n",
       "    <tr>\n",
       "      <th>1270</th>\n",
       "      <td>KLOR-CON 20 MEQ PACKET</td>\n",
       "      <td>00245036030</td>\n",
       "      <td>5.271647</td>\n",
       "      <td>5.475649</td>\n",
       "      <td>0.204002</td>\n",
       "      <td>0.056848</td>\n",
       "    </tr>\n",
       "    <tr>\n",
       "      <th>1271</th>\n",
       "      <td>KLOR-CON 20 MEQ PACKET</td>\n",
       "      <td>00245036001</td>\n",
       "      <td>5.271647</td>\n",
       "      <td>5.475649</td>\n",
       "      <td>0.204002</td>\n",
       "      <td>0.056848</td>\n",
       "    </tr>\n",
       "    <tr>\n",
       "      <th>1283</th>\n",
       "      <td>DERMA-SMOOTHE-FS SCALP OIL</td>\n",
       "      <td>68791010204</td>\n",
       "      <td>0.283769</td>\n",
       "      <td>0.541236</td>\n",
       "      <td>0.257467</td>\n",
       "      <td>0.907289</td>\n",
       "    </tr>\n",
       "    <tr>\n",
       "      <th>1273</th>\n",
       "      <td>CELESTONE SOLUSPAN 30 MG/5 ML</td>\n",
       "      <td>00085432001</td>\n",
       "      <td>7.245330</td>\n",
       "      <td>7.685555</td>\n",
       "      <td>0.440225</td>\n",
       "      <td>0.060760</td>\n",
       "    </tr>\n",
       "    <tr>\n",
       "      <th>1280</th>\n",
       "      <td>PACERONE 400 MG TABLET</td>\n",
       "      <td>00245014530</td>\n",
       "      <td>1.838530</td>\n",
       "      <td>3.003601</td>\n",
       "      <td>1.165071</td>\n",
       "      <td>0.633697</td>\n",
       "    </tr>\n",
       "    <tr>\n",
       "      <th>1281</th>\n",
       "      <td>PACERONE 400 MG TABLET</td>\n",
       "      <td>00245014501</td>\n",
       "      <td>1.838530</td>\n",
       "      <td>3.003601</td>\n",
       "      <td>1.165071</td>\n",
       "      <td>0.633697</td>\n",
       "    </tr>\n",
       "    <tr>\n",
       "      <th>1282</th>\n",
       "      <td>RETIN-A 0.1% CREAM</td>\n",
       "      <td>00187516445</td>\n",
       "      <td>1.807655</td>\n",
       "      <td>3.131097</td>\n",
       "      <td>1.323442</td>\n",
       "      <td>0.743206</td>\n",
       "    </tr>\n",
       "    <tr>\n",
       "      <th>1285</th>\n",
       "      <td>DERMOTIC OIL 0.01% EAR DROPS</td>\n",
       "      <td>68791010320</td>\n",
       "      <td>1.355318</td>\n",
       "      <td>3.631927</td>\n",
       "      <td>2.276610</td>\n",
       "      <td>1.678817</td>\n",
       "    </tr>\n",
       "  </tbody>\n",
       "</table>\n",
       "</div>"
      ],
      "text/plain": [
       "                    NDC Description          NDC  NADAC_Per_Unit  \\\n",
       "1272   CARNITOR 100 MG/ML ORAL SOLN  54482014508        0.274550   \n",
       "1278     LORCET HD 10-325 MG TABLET  51862058701        0.081194   \n",
       "1279     LORCET HD 10-325 MG TABLET  51862058705        0.081194   \n",
       "1277      DERMA-SMOOTHE-FS BODY OIL  68791010104        0.296230   \n",
       "1274         PACERONE 100 MG TABLET  00245014430        1.890357   \n",
       "1275         PACERONE 100 MG TABLET  00245014401        1.890357   \n",
       "1284   METHYLIN 10 MG/5 ML SOLUTION  59630075550        0.190640   \n",
       "1270         KLOR-CON 20 MEQ PACKET  00245036030        5.271647   \n",
       "1271         KLOR-CON 20 MEQ PACKET  00245036001        5.271647   \n",
       "1283     DERMA-SMOOTHE-FS SCALP OIL  68791010204        0.283769   \n",
       "1273  CELESTONE SOLUSPAN 30 MG/5 ML  00085432001        7.245330   \n",
       "1280         PACERONE 400 MG TABLET  00245014530        1.838530   \n",
       "1281         PACERONE 400 MG TABLET  00245014501        1.838530   \n",
       "1282             RETIN-A 0.1% CREAM  00187516445        1.807655   \n",
       "1285   DERMOTIC OIL 0.01% EAR DROPS  68791010320        1.355318   \n",
       "\n",
       "      Corresponding_Generic_Drug_NADAC_Per_Unit  nadac_diff  \\\n",
       "1272                                   0.291208    0.016658   \n",
       "1278                                   0.115858    0.034664   \n",
       "1279                                   0.115858    0.034664   \n",
       "1277                                   0.393038    0.096808   \n",
       "1274                                   2.002333    0.111976   \n",
       "1275                                   2.002333    0.111976   \n",
       "1284                                   0.364837    0.174197   \n",
       "1270                                   5.475649    0.204002   \n",
       "1271                                   5.475649    0.204002   \n",
       "1283                                   0.541236    0.257467   \n",
       "1273                                   7.685555    0.440225   \n",
       "1280                                   3.003601    1.165071   \n",
       "1281                                   3.003601    1.165071   \n",
       "1282                                   3.131097    1.323442   \n",
       "1285                                   3.631927    2.276610   \n",
       "\n",
       "      nadac_percent_change  \n",
       "1272              0.060674  \n",
       "1278              0.445923  \n",
       "1279              0.445923  \n",
       "1277              0.326801  \n",
       "1274              0.067075  \n",
       "1275              0.067075  \n",
       "1284              0.913747  \n",
       "1270              0.056848  \n",
       "1271              0.056848  \n",
       "1283              0.907289  \n",
       "1273              0.060760  \n",
       "1280              0.633697  \n",
       "1281              0.633697  \n",
       "1282              0.743206  \n",
       "1285              1.678817  "
      ]
     },
     "execution_count": 9,
     "metadata": {},
     "output_type": "execute_result"
    }
   ],
   "source": [
    "positive_perc_change = generics_i_uni[generics_i_uni['nadac_diff'] > 0].sort_values('nadac_diff')\n",
    "positive_perc_change"
   ]
  },
  {
   "cell_type": "code",
   "execution_count": 10,
   "id": "4d63244a-79e4-4947-b815-92c682035f22",
   "metadata": {
    "tags": []
   },
   "outputs": [
    {
     "data": {
      "text/plain": [
       "(15, 6)"
      ]
     },
     "execution_count": 10,
     "metadata": {},
     "output_type": "execute_result"
    }
   ],
   "source": [
    "positive_perc_change.shape"
   ]
  },
  {
   "cell_type": "code",
   "execution_count": 11,
   "id": "c15b0379-c1a4-4487-a5e9-6723b6a34dc6",
   "metadata": {
    "tags": []
   },
   "outputs": [
    {
     "data": {
      "text/plain": [
       "count    15.000000\n",
       "mean      0.473226\n",
       "std       0.462928\n",
       "min       0.056848\n",
       "25%       0.063918\n",
       "50%       0.445923\n",
       "75%       0.688452\n",
       "max       1.678817\n",
       "Name: nadac_percent_change, dtype: float64"
      ]
     },
     "execution_count": 11,
     "metadata": {},
     "output_type": "execute_result"
    }
   ],
   "source": [
    "positive_perc_change['nadac_percent_change'].describe()"
   ]
  },
  {
   "cell_type": "markdown",
   "id": "f465d80b-633d-416e-9289-1c0f546de2c7",
   "metadata": {},
   "source": [
    "15 drugs have a positive change in NADAC compared to the generic. While most of these drugs experience a marginal increase for the generic, some of these increase more than 30% percent. In particular, two drugs increase by more than 90%, and one drug increases by 167%. "
   ]
  },
  {
   "cell_type": "markdown",
   "id": "fafb683c-bf49-4f58-b1e4-499ef50dadde",
   "metadata": {},
   "source": [
    "# Cost Plus: Looking At The Relationship Between Brand Name Price and Manufacturing Costs"
   ]
  },
  {
   "cell_type": "markdown",
   "id": "6ef90be7-f1a3-4b9b-946e-16b7e895e825",
   "metadata": {},
   "source": [
    "Since Cost Plus is very transparent regarding their pricing, I seek to use the Cost Plus prices as a proxy for manufacturing costs. For each drug, there is a $3 fee added to account for pharmacy labor, and shipping costs are not included in the prices reported. Additionally, there is a 15% markup. To isolate the manufacturing cost, I first subtract 3 from all of the prices, and divide each price by 1.15."
   ]
  },
  {
   "cell_type": "code",
   "execution_count": 12,
   "id": "3795faa2-719b-479d-a878-444e0c6eaf7a",
   "metadata": {
    "tags": []
   },
   "outputs": [
    {
     "data": {
      "text/html": [
       "<div>\n",
       "<style scoped>\n",
       "    .dataframe tbody tr th:only-of-type {\n",
       "        vertical-align: middle;\n",
       "    }\n",
       "\n",
       "    .dataframe tbody tr th {\n",
       "        vertical-align: top;\n",
       "    }\n",
       "\n",
       "    .dataframe thead th {\n",
       "        text-align: right;\n",
       "    }\n",
       "</style>\n",
       "<table border=\"1\" class=\"dataframe\">\n",
       "  <thead>\n",
       "    <tr style=\"text-align: right;\">\n",
       "      <th></th>\n",
       "      <th>medication</th>\n",
       "      <th>brand_name</th>\n",
       "      <th>form</th>\n",
       "      <th>retail_price</th>\n",
       "      <th>CP_price</th>\n",
       "    </tr>\n",
       "  </thead>\n",
       "  <tbody>\n",
       "    <tr>\n",
       "      <th>0</th>\n",
       "      <td>Abacavir / Lamivudine (Generic for Epzicom)</td>\n",
       "      <td>Epzicom</td>\n",
       "      <td>Tablet</td>\n",
       "      <td>1096.10</td>\n",
       "      <td>71.40</td>\n",
       "    </tr>\n",
       "    <tr>\n",
       "      <th>1</th>\n",
       "      <td>Abiraterone Acetate (Generic for Zytiga)</td>\n",
       "      <td>Zytiga</td>\n",
       "      <td>Tablet</td>\n",
       "      <td>1093.20</td>\n",
       "      <td>36.60</td>\n",
       "    </tr>\n",
       "    <tr>\n",
       "      <th>2</th>\n",
       "      <td>Acarbose (Generic for Precose)</td>\n",
       "      <td>Precose</td>\n",
       "      <td>Tablet</td>\n",
       "      <td>43.20</td>\n",
       "      <td>7.50</td>\n",
       "    </tr>\n",
       "    <tr>\n",
       "      <th>3</th>\n",
       "      <td>Accu-Chek Guide Me Meter for Diabetic Blood Gl...</td>\n",
       "      <td>NaN</td>\n",
       "      <td>Kit</td>\n",
       "      <td>29.99</td>\n",
       "      <td>10.76</td>\n",
       "    </tr>\n",
       "    <tr>\n",
       "      <th>4</th>\n",
       "      <td>Accu-Chek Guide Test Strips for Diabetic Blood...</td>\n",
       "      <td>NaN</td>\n",
       "      <td>Test Strips</td>\n",
       "      <td>29.99</td>\n",
       "      <td>16.79</td>\n",
       "    </tr>\n",
       "  </tbody>\n",
       "</table>\n",
       "</div>"
      ],
      "text/plain": [
       "                                          medication brand_name         form  \\\n",
       "0        Abacavir / Lamivudine (Generic for Epzicom)    Epzicom       Tablet   \n",
       "1           Abiraterone Acetate (Generic for Zytiga)     Zytiga       Tablet   \n",
       "2                     Acarbose (Generic for Precose)    Precose       Tablet   \n",
       "3  Accu-Chek Guide Me Meter for Diabetic Blood Gl...        NaN          Kit   \n",
       "4  Accu-Chek Guide Test Strips for Diabetic Blood...        NaN  Test Strips   \n",
       "\n",
       "   retail_price  CP_price  \n",
       "0       1096.10     71.40  \n",
       "1       1093.20     36.60  \n",
       "2         43.20      7.50  \n",
       "3         29.99     10.76  \n",
       "4         29.99     16.79  "
      ]
     },
     "execution_count": 12,
     "metadata": {},
     "output_type": "execute_result"
    }
   ],
   "source": [
    "costplus = pd.read_csv(\"C:\\\\Users\\\\ttrap\\\\Desktop\\\\ECON 191\\\\costplus.csv\")\n",
    "costplus.head()"
   ]
  },
  {
   "cell_type": "code",
   "execution_count": 13,
   "id": "2e3553d2-d71d-4c79-a89c-17f7a0efaadd",
   "metadata": {
    "tags": []
   },
   "outputs": [],
   "source": [
    "costplus['manuf_cost'] = (costplus['CP_price'] - 3)/1.15"
   ]
  },
  {
   "cell_type": "code",
   "execution_count": 14,
   "id": "b02f6d52-5229-46c1-8ff2-4882dce6ac00",
   "metadata": {
    "tags": []
   },
   "outputs": [
    {
     "data": {
      "text/html": [
       "<div>\n",
       "<style scoped>\n",
       "    .dataframe tbody tr th:only-of-type {\n",
       "        vertical-align: middle;\n",
       "    }\n",
       "\n",
       "    .dataframe tbody tr th {\n",
       "        vertical-align: top;\n",
       "    }\n",
       "\n",
       "    .dataframe thead th {\n",
       "        text-align: right;\n",
       "    }\n",
       "</style>\n",
       "<table border=\"1\" class=\"dataframe\">\n",
       "  <thead>\n",
       "    <tr style=\"text-align: right;\">\n",
       "      <th></th>\n",
       "      <th>medication</th>\n",
       "      <th>brand_name</th>\n",
       "      <th>form</th>\n",
       "      <th>retail_price</th>\n",
       "      <th>CP_price</th>\n",
       "      <th>manuf_cost</th>\n",
       "    </tr>\n",
       "  </thead>\n",
       "  <tbody>\n",
       "    <tr>\n",
       "      <th>0</th>\n",
       "      <td>Abacavir / Lamivudine (Generic for Epzicom)</td>\n",
       "      <td>Epzicom</td>\n",
       "      <td>Tablet</td>\n",
       "      <td>1096.10</td>\n",
       "      <td>71.40</td>\n",
       "      <td>59.478261</td>\n",
       "    </tr>\n",
       "    <tr>\n",
       "      <th>1</th>\n",
       "      <td>Abiraterone Acetate (Generic for Zytiga)</td>\n",
       "      <td>Zytiga</td>\n",
       "      <td>Tablet</td>\n",
       "      <td>1093.20</td>\n",
       "      <td>36.60</td>\n",
       "      <td>29.217391</td>\n",
       "    </tr>\n",
       "    <tr>\n",
       "      <th>2</th>\n",
       "      <td>Acarbose (Generic for Precose)</td>\n",
       "      <td>Precose</td>\n",
       "      <td>Tablet</td>\n",
       "      <td>43.20</td>\n",
       "      <td>7.50</td>\n",
       "      <td>3.913043</td>\n",
       "    </tr>\n",
       "    <tr>\n",
       "      <th>3</th>\n",
       "      <td>Accu-Chek Guide Me Meter for Diabetic Blood Gl...</td>\n",
       "      <td>NaN</td>\n",
       "      <td>Kit</td>\n",
       "      <td>29.99</td>\n",
       "      <td>10.76</td>\n",
       "      <td>6.747826</td>\n",
       "    </tr>\n",
       "    <tr>\n",
       "      <th>4</th>\n",
       "      <td>Accu-Chek Guide Test Strips for Diabetic Blood...</td>\n",
       "      <td>NaN</td>\n",
       "      <td>Test Strips</td>\n",
       "      <td>29.99</td>\n",
       "      <td>16.79</td>\n",
       "      <td>11.991304</td>\n",
       "    </tr>\n",
       "    <tr>\n",
       "      <th>...</th>\n",
       "      <td>...</td>\n",
       "      <td>...</td>\n",
       "      <td>...</td>\n",
       "      <td>...</td>\n",
       "      <td>...</td>\n",
       "      <td>...</td>\n",
       "    </tr>\n",
       "    <tr>\n",
       "      <th>437</th>\n",
       "      <td>Warfarin (Generic for Coumadin)</td>\n",
       "      <td>Coumadin</td>\n",
       "      <td>Tablet</td>\n",
       "      <td>9.99</td>\n",
       "      <td>4.80</td>\n",
       "      <td>1.565217</td>\n",
       "    </tr>\n",
       "    <tr>\n",
       "      <th>438</th>\n",
       "      <td>Ziprasidone HCl (Generic for Geodon)</td>\n",
       "      <td>Geodon</td>\n",
       "      <td>Capsule</td>\n",
       "      <td>175.50</td>\n",
       "      <td>6.90</td>\n",
       "      <td>3.391304</td>\n",
       "    </tr>\n",
       "    <tr>\n",
       "      <th>439</th>\n",
       "      <td>Zolmitriptan (Generic for Zomig)</td>\n",
       "      <td>Zomig</td>\n",
       "      <td>Blister Pack of 3 Tablets</td>\n",
       "      <td>120.32</td>\n",
       "      <td>6.73</td>\n",
       "      <td>3.243478</td>\n",
       "    </tr>\n",
       "    <tr>\n",
       "      <th>440</th>\n",
       "      <td>Zolmitriptan (Generic for Zomig ZMT)</td>\n",
       "      <td>NaN</td>\n",
       "      <td>Blister Pack of 3 ODT Tablets</td>\n",
       "      <td>135.91</td>\n",
       "      <td>9.12</td>\n",
       "      <td>5.321739</td>\n",
       "    </tr>\n",
       "    <tr>\n",
       "      <th>441</th>\n",
       "      <td>Zonisamide (Generic for Zonegran)</td>\n",
       "      <td>Zonegran</td>\n",
       "      <td>Capsule</td>\n",
       "      <td>21.00</td>\n",
       "      <td>4.20</td>\n",
       "      <td>1.043478</td>\n",
       "    </tr>\n",
       "  </tbody>\n",
       "</table>\n",
       "<p>442 rows × 6 columns</p>\n",
       "</div>"
      ],
      "text/plain": [
       "                                            medication brand_name  \\\n",
       "0          Abacavir / Lamivudine (Generic for Epzicom)    Epzicom   \n",
       "1             Abiraterone Acetate (Generic for Zytiga)     Zytiga   \n",
       "2                       Acarbose (Generic for Precose)    Precose   \n",
       "3    Accu-Chek Guide Me Meter for Diabetic Blood Gl...        NaN   \n",
       "4    Accu-Chek Guide Test Strips for Diabetic Blood...        NaN   \n",
       "..                                                 ...        ...   \n",
       "437                    Warfarin (Generic for Coumadin)   Coumadin   \n",
       "438               Ziprasidone HCl (Generic for Geodon)     Geodon   \n",
       "439                   Zolmitriptan (Generic for Zomig)      Zomig   \n",
       "440               Zolmitriptan (Generic for Zomig ZMT)        NaN   \n",
       "441                  Zonisamide (Generic for Zonegran)   Zonegran   \n",
       "\n",
       "                              form  retail_price  CP_price  manuf_cost  \n",
       "0                           Tablet       1096.10     71.40   59.478261  \n",
       "1                           Tablet       1093.20     36.60   29.217391  \n",
       "2                           Tablet         43.20      7.50    3.913043  \n",
       "3                              Kit         29.99     10.76    6.747826  \n",
       "4                      Test Strips         29.99     16.79   11.991304  \n",
       "..                             ...           ...       ...         ...  \n",
       "437                         Tablet          9.99      4.80    1.565217  \n",
       "438                        Capsule        175.50      6.90    3.391304  \n",
       "439      Blister Pack of 3 Tablets        120.32      6.73    3.243478  \n",
       "440  Blister Pack of 3 ODT Tablets        135.91      9.12    5.321739  \n",
       "441                        Capsule         21.00      4.20    1.043478  \n",
       "\n",
       "[442 rows x 6 columns]"
      ]
     },
     "execution_count": 14,
     "metadata": {},
     "output_type": "execute_result"
    }
   ],
   "source": [
    "costplus"
   ]
  },
  {
   "cell_type": "markdown",
   "id": "f1304ab8-efd8-4bd9-b51a-ee1112458c5f",
   "metadata": {},
   "source": [
    "I seek to investigate the relationship between manufacturing cost and the actual brand name price of the drug. To answer this question, I will run a linear regression of manufacturing cost on the retail price (**From Cost Plus: The retail price listed on our website is an average of retail prices across other pharmacies that is sourced from third-party data. This information is published at the time we add the medication so may not reflect current market prices.**), and then also perform another regression matching up the drugs in the Cost Plus data to another dataset."
   ]
  },
  {
   "cell_type": "code",
   "execution_count": 15,
   "id": "75bfcd86-feeb-4afb-84fb-30f3e662e67c",
   "metadata": {
    "tags": []
   },
   "outputs": [
    {
     "data": {
      "text/plain": [
       "<matplotlib.legend.Legend at 0x1ba482c4d30>"
      ]
     },
     "execution_count": 15,
     "metadata": {},
     "output_type": "execute_result"
    },
    {
     "data": {
      "image/png": "[encoded data removed]",
      "text/plain": [
       "<Figure size 432x288 with 1 Axes>"
      ]
     },
     "metadata": {
      "needs_background": "light"
     },
     "output_type": "display_data"
    }
   ],
   "source": [
    "sns.histplot(x = np.log(costplus['manuf_cost']), stat = 'density', label = 'manuf_cost')\n",
    "sns.histplot(x = np.log(costplus['retail_price']), stat = 'density', label = 'retail_price')\n",
    "plt.legend()"
   ]
  },
  {
   "cell_type": "code",
   "execution_count": 16,
   "id": "1566dfd6-2966-42b7-a5f3-ca4c8328c148",
   "metadata": {
    "tags": []
   },
   "outputs": [
    {
     "data": {
      "text/plain": [
       "Text(27.125, 0.5, 'ln(retail_price)')"
      ]
     },
     "execution_count": 16,
     "metadata": {},
     "output_type": "execute_result"
    },
    {
     "data": {
      "image/png": "[encoded data removed]",
      "text/plain": [
       "<Figure size 432x432 with 3 Axes>"
      ]
     },
     "metadata": {
      "needs_background": "light"
     },
     "output_type": "display_data"
    }
   ],
   "source": [
    "sns.jointplot(x = np.log(costplus['manuf_cost']), y = np.log(costplus['retail_price']))\n",
    "plt.xlabel('ln(manuf_cost)')\n",
    "plt.ylabel('ln(retail_price)')"
   ]
  },
  {
   "cell_type": "code",
   "execution_count": 17,
   "id": "889f8a17-fb12-4176-8660-075a9303a602",
   "metadata": {
    "tags": []
   },
   "outputs": [
    {
     "data": {
      "text/plain": [
       "<seaborn.axisgrid.JointGrid at 0x1ba49218c40>"
      ]
     },
     "execution_count": 17,
     "metadata": {},
     "output_type": "execute_result"
    },
    {
     "data": {
      "image/png": "[encoded data removed]",
      "text/plain": [
       "<Figure size 432x432 with 3 Axes>"
      ]
     },
     "metadata": {
      "needs_background": "light"
     },
     "output_type": "display_data"
    }
   ],
   "source": [
    "sns.jointplot(x = costplus['manuf_cost'], y = costplus['retail_price'])"
   ]
  },
  {
   "cell_type": "code",
   "execution_count": 18,
   "id": "188a9d3d-2e21-4146-b606-29206ba3b3c9",
   "metadata": {
    "tags": []
   },
   "outputs": [
    {
     "name": "stdout",
     "output_type": "stream",
     "text": [
      "                            OLS Regression Results                            \n",
      "==============================================================================\n",
      "Dep. Variable:           retail_price   R-squared:                       0.483\n",
      "Model:                            OLS   Adj. R-squared:                  0.482\n",
      "Method:                 Least Squares   F-statistic:                     446.7\n",
      "Date:                Wed, 28 Jun 2023   Prob (F-statistic):           6.03e-69\n",
      "Time:                        20:56:16   Log-Likelihood:                -614.41\n",
      "No. Observations:                 442   AIC:                             1233.\n",
      "Df Residuals:                     440   BIC:                             1241.\n",
      "Df Model:                           1                                         \n",
      "Covariance Type:                  HC3                                         \n",
      "==============================================================================\n",
      "                 coef    std err          z      P>|z|      [0.025      0.975]\n",
      "------------------------------------------------------------------------------\n",
      "const          3.0678      0.066     46.649      0.000       2.939       3.197\n",
      "manuf_cost     0.7208      0.034     21.134      0.000       0.654       0.788\n",
      "==============================================================================\n",
      "Omnibus:                       28.927   Durbin-Watson:                   1.807\n",
      "Prob(Omnibus):                  0.000   Jarque-Bera (JB):               32.931\n",
      "Skew:                           0.662   Prob(JB):                     7.07e-08\n",
      "Kurtosis:                       3.193   Cond. No.                         3.68\n",
      "==============================================================================\n",
      "\n",
      "Notes:\n",
      "[1] Standard Errors are heteroscedasticity robust (HC3)\n"
     ]
    }
   ],
   "source": [
    "Y = np.log(costplus['retail_price'])\n",
    "X = np.log(costplus['manuf_cost'])\n",
    "X = sm.add_constant(X)\n",
    "model = sm.OLS(Y,X, missing = 'drop')\n",
    "#Heteroskedasticity robust SE\n",
    "results = model.fit(cov_type='HC3')\n",
    "print(results.summary())"
   ]
  },
  {
   "cell_type": "markdown",
   "id": "e20ef0b4-1502-43d3-9de8-ffa8127b9c41",
   "metadata": {},
   "source": [
    "With an R-squared value of .483 and highly significant coefficients, it appears that manufacturing costs explains a significant proportion of the variance of retail prices of the drugs in Cost Plus. We can also try to further validate this by utilizing other data. However, one thing to note is that if medicine was priced with a lot of the costs in mind, then we should expect a coefficient that is much closer to 1. However, this is not the case, and the 95% confidence interval is far from it as well. Also, the manufacturing costs only account for half of the variance of the retail price, indicating that there are other highly relevant factors other than manufacturing-related costs which account for the final retail price. "
   ]
  },
  {
   "cell_type": "markdown",
   "id": "229c4fa6-0024-4032-97bb-df5521f06b9c",
   "metadata": {},
   "source": [
    "To attempt to generalize this concept, let's assume that the price of every drug can be decomposed into manufacuring costs, a percentage markup from those manufacturing costs, and a fixed labor cost. In the case of Cost Plus, we know the associated manufacturing costs and the labor cost, and so we can estimate the markup for each drug:"
   ]
  },
  {
   "cell_type": "code",
   "execution_count": 19,
   "id": "01481c65-b29d-4a3b-b6f6-714eebfdbb7d",
   "metadata": {
    "tags": []
   },
   "outputs": [],
   "source": [
    "costplus['markup'] = (((costplus['retail_price'] - 3)/(costplus['manuf_cost'])) - 1) * 100 #subtracting 1 gives it in percentage terms"
   ]
  },
  {
   "cell_type": "code",
   "execution_count": 20,
   "id": "71b3ed16-75e2-44fd-9c38-da654e95c444",
   "metadata": {
    "tags": []
   },
   "outputs": [
    {
     "data": {
      "text/html": [
       "<div>\n",
       "<style scoped>\n",
       "    .dataframe tbody tr th:only-of-type {\n",
       "        vertical-align: middle;\n",
       "    }\n",
       "\n",
       "    .dataframe tbody tr th {\n",
       "        vertical-align: top;\n",
       "    }\n",
       "\n",
       "    .dataframe thead th {\n",
       "        text-align: right;\n",
       "    }\n",
       "</style>\n",
       "<table border=\"1\" class=\"dataframe\">\n",
       "  <thead>\n",
       "    <tr style=\"text-align: right;\">\n",
       "      <th></th>\n",
       "      <th>medication</th>\n",
       "      <th>brand_name</th>\n",
       "      <th>form</th>\n",
       "      <th>retail_price</th>\n",
       "      <th>CP_price</th>\n",
       "      <th>manuf_cost</th>\n",
       "      <th>markup</th>\n",
       "    </tr>\n",
       "  </thead>\n",
       "  <tbody>\n",
       "    <tr>\n",
       "      <th>0</th>\n",
       "      <td>Abacavir / Lamivudine (Generic for Epzicom)</td>\n",
       "      <td>Epzicom</td>\n",
       "      <td>Tablet</td>\n",
       "      <td>1096.10</td>\n",
       "      <td>71.40</td>\n",
       "      <td>59.478261</td>\n",
       "      <td>1737.814327</td>\n",
       "    </tr>\n",
       "    <tr>\n",
       "      <th>1</th>\n",
       "      <td>Abiraterone Acetate (Generic for Zytiga)</td>\n",
       "      <td>Zytiga</td>\n",
       "      <td>Tablet</td>\n",
       "      <td>1093.20</td>\n",
       "      <td>36.60</td>\n",
       "      <td>29.217391</td>\n",
       "      <td>3631.339286</td>\n",
       "    </tr>\n",
       "    <tr>\n",
       "      <th>2</th>\n",
       "      <td>Acarbose (Generic for Precose)</td>\n",
       "      <td>Precose</td>\n",
       "      <td>Tablet</td>\n",
       "      <td>43.20</td>\n",
       "      <td>7.50</td>\n",
       "      <td>3.913043</td>\n",
       "      <td>927.333333</td>\n",
       "    </tr>\n",
       "    <tr>\n",
       "      <th>3</th>\n",
       "      <td>Accu-Chek Guide Me Meter for Diabetic Blood Gl...</td>\n",
       "      <td>NaN</td>\n",
       "      <td>Kit</td>\n",
       "      <td>29.99</td>\n",
       "      <td>10.76</td>\n",
       "      <td>6.747826</td>\n",
       "      <td>299.980670</td>\n",
       "    </tr>\n",
       "    <tr>\n",
       "      <th>4</th>\n",
       "      <td>Accu-Chek Guide Test Strips for Diabetic Blood...</td>\n",
       "      <td>NaN</td>\n",
       "      <td>Test Strips</td>\n",
       "      <td>29.99</td>\n",
       "      <td>16.79</td>\n",
       "      <td>11.991304</td>\n",
       "      <td>125.079768</td>\n",
       "    </tr>\n",
       "    <tr>\n",
       "      <th>...</th>\n",
       "      <td>...</td>\n",
       "      <td>...</td>\n",
       "      <td>...</td>\n",
       "      <td>...</td>\n",
       "      <td>...</td>\n",
       "      <td>...</td>\n",
       "      <td>...</td>\n",
       "    </tr>\n",
       "    <tr>\n",
       "      <th>437</th>\n",
       "      <td>Warfarin (Generic for Coumadin)</td>\n",
       "      <td>Coumadin</td>\n",
       "      <td>Tablet</td>\n",
       "      <td>9.99</td>\n",
       "      <td>4.80</td>\n",
       "      <td>1.565217</td>\n",
       "      <td>346.583333</td>\n",
       "    </tr>\n",
       "    <tr>\n",
       "      <th>438</th>\n",
       "      <td>Ziprasidone HCl (Generic for Geodon)</td>\n",
       "      <td>Geodon</td>\n",
       "      <td>Capsule</td>\n",
       "      <td>175.50</td>\n",
       "      <td>6.90</td>\n",
       "      <td>3.391304</td>\n",
       "      <td>4986.538462</td>\n",
       "    </tr>\n",
       "    <tr>\n",
       "      <th>439</th>\n",
       "      <td>Zolmitriptan (Generic for Zomig)</td>\n",
       "      <td>Zomig</td>\n",
       "      <td>Blister Pack of 3 Tablets</td>\n",
       "      <td>120.32</td>\n",
       "      <td>6.73</td>\n",
       "      <td>3.243478</td>\n",
       "      <td>3517.104558</td>\n",
       "    </tr>\n",
       "    <tr>\n",
       "      <th>440</th>\n",
       "      <td>Zolmitriptan (Generic for Zomig ZMT)</td>\n",
       "      <td>NaN</td>\n",
       "      <td>Blister Pack of 3 ODT Tablets</td>\n",
       "      <td>135.91</td>\n",
       "      <td>9.12</td>\n",
       "      <td>5.321739</td>\n",
       "      <td>2397.491830</td>\n",
       "    </tr>\n",
       "    <tr>\n",
       "      <th>441</th>\n",
       "      <td>Zonisamide (Generic for Zonegran)</td>\n",
       "      <td>Zonegran</td>\n",
       "      <td>Capsule</td>\n",
       "      <td>21.00</td>\n",
       "      <td>4.20</td>\n",
       "      <td>1.043478</td>\n",
       "      <td>1625.000000</td>\n",
       "    </tr>\n",
       "  </tbody>\n",
       "</table>\n",
       "<p>442 rows × 7 columns</p>\n",
       "</div>"
      ],
      "text/plain": [
       "                                            medication brand_name  \\\n",
       "0          Abacavir / Lamivudine (Generic for Epzicom)    Epzicom   \n",
       "1             Abiraterone Acetate (Generic for Zytiga)     Zytiga   \n",
       "2                       Acarbose (Generic for Precose)    Precose   \n",
       "3    Accu-Chek Guide Me Meter for Diabetic Blood Gl...        NaN   \n",
       "4    Accu-Chek Guide Test Strips for Diabetic Blood...        NaN   \n",
       "..                                                 ...        ...   \n",
       "437                    Warfarin (Generic for Coumadin)   Coumadin   \n",
       "438               Ziprasidone HCl (Generic for Geodon)     Geodon   \n",
       "439                   Zolmitriptan (Generic for Zomig)      Zomig   \n",
       "440               Zolmitriptan (Generic for Zomig ZMT)        NaN   \n",
       "441                  Zonisamide (Generic for Zonegran)   Zonegran   \n",
       "\n",
       "                              form  retail_price  CP_price  manuf_cost  \\\n",
       "0                           Tablet       1096.10     71.40   59.478261   \n",
       "1                           Tablet       1093.20     36.60   29.217391   \n",
       "2                           Tablet         43.20      7.50    3.913043   \n",
       "3                              Kit         29.99     10.76    6.747826   \n",
       "4                      Test Strips         29.99     16.79   11.991304   \n",
       "..                             ...           ...       ...         ...   \n",
       "437                         Tablet          9.99      4.80    1.565217   \n",
       "438                        Capsule        175.50      6.90    3.391304   \n",
       "439      Blister Pack of 3 Tablets        120.32      6.73    3.243478   \n",
       "440  Blister Pack of 3 ODT Tablets        135.91      9.12    5.321739   \n",
       "441                        Capsule         21.00      4.20    1.043478   \n",
       "\n",
       "          markup  \n",
       "0    1737.814327  \n",
       "1    3631.339286  \n",
       "2     927.333333  \n",
       "3     299.980670  \n",
       "4     125.079768  \n",
       "..           ...  \n",
       "437   346.583333  \n",
       "438  4986.538462  \n",
       "439  3517.104558  \n",
       "440  2397.491830  \n",
       "441  1625.000000  \n",
       "\n",
       "[442 rows x 7 columns]"
      ]
     },
     "execution_count": 20,
     "metadata": {},
     "output_type": "execute_result"
    }
   ],
   "source": [
    "costplus"
   ]
  },
  {
   "cell_type": "code",
   "execution_count": 21,
   "id": "173ef1c7-8311-4214-a50f-113b8f3896e2",
   "metadata": {
    "tags": []
   },
   "outputs": [],
   "source": [
    "#CSV for RStudio\n",
    "#costplus.to_csv(\"C:\\\\Users\\\\ttrap\\\\Desktop\\\\ECON 191\\\\costplus_fin.csv\", index = False)"
   ]
  },
  {
   "cell_type": "code",
   "execution_count": 22,
   "id": "095ea5ad-d2f6-472e-bca0-327d8686aad3",
   "metadata": {
    "tags": []
   },
   "outputs": [
    {
     "data": {
      "text/plain": [
       "<AxesSubplot:xlabel='markup', ylabel='Density'>"
      ]
     },
     "execution_count": 22,
     "metadata": {},
     "output_type": "execute_result"
    },
    {
     "data": {
      "image/png": "[encoded data removed]",
      "text/plain": [
       "<Figure size 432x288 with 1 Axes>"
      ]
     },
     "metadata": {
      "needs_background": "light"
     },
     "output_type": "display_data"
    }
   ],
   "source": [
    "sns.histplot(x = costplus['markup'], stat = 'density')"
   ]
  },
  {
   "cell_type": "code",
   "execution_count": 23,
   "id": "7a2bd984-c491-4f42-94e7-a780482ff261",
   "metadata": {
    "tags": []
   },
   "outputs": [
    {
     "data": {
      "text/plain": [
       "<AxesSubplot:xlabel='markup', ylabel='Density'>"
      ]
     },
     "execution_count": 23,
     "metadata": {},
     "output_type": "execute_result"
    },
    {
     "data": {
      "image/png": "[encoded data removed]",
      "text/plain": [
       "<Figure size 432x288 with 1 Axes>"
      ]
     },
     "metadata": {
      "needs_background": "light"
     },
     "output_type": "display_data"
    }
   ],
   "source": [
    "sns.histplot(x = np.log(costplus['markup']), stat = 'density')"
   ]
  },
  {
   "cell_type": "code",
   "execution_count": 24,
   "id": "f2328607-20d3-49ee-bcd7-c94fa3203070",
   "metadata": {
    "tags": []
   },
   "outputs": [
    {
     "data": {
      "text/plain": [
       "<seaborn.axisgrid.JointGrid at 0x1ba49ddd4b0>"
      ]
     },
     "execution_count": 24,
     "metadata": {},
     "output_type": "execute_result"
    },
    {
     "data": {
      "image/png": "[encoded data removed]",
      "text/plain": [
       "<Figure size 432x432 with 3 Axes>"
      ]
     },
     "metadata": {
      "needs_background": "light"
     },
     "output_type": "display_data"
    }
   ],
   "source": [
    "sns.jointplot(x = np.log(costplus['manuf_cost']), y = np.log(costplus['markup']))"
   ]
  },
  {
   "cell_type": "code",
   "execution_count": 25,
   "id": "fabaf041-5042-4951-8388-4b4952c5d633",
   "metadata": {
    "tags": []
   },
   "outputs": [
    {
     "name": "stdout",
     "output_type": "stream",
     "text": [
      "                            OLS Regression Results                            \n",
      "==============================================================================\n",
      "Dep. Variable:                 markup   R-squared:                       0.084\n",
      "Model:                            OLS   Adj. R-squared:                  0.082\n",
      "Method:                 Least Squares   F-statistic:                     39.88\n",
      "Date:                Wed, 28 Jun 2023   Prob (F-statistic):           6.60e-10\n",
      "Time:                        20:56:17   Log-Likelihood:                -701.58\n",
      "No. Observations:                 442   AIC:                             1407.\n",
      "Df Residuals:                     440   BIC:                             1415.\n",
      "Df Model:                           1                                         \n",
      "Covariance Type:                  HC3                                         \n",
      "==============================================================================\n",
      "                 coef    std err          z      P>|z|      [0.025      0.975]\n",
      "------------------------------------------------------------------------------\n",
      "const          7.4106      0.083     89.493      0.000       7.248       7.573\n",
      "manuf_cost    -0.2749      0.044     -6.315      0.000      -0.360      -0.190\n",
      "==============================================================================\n",
      "Omnibus:                        2.507   Durbin-Watson:                   1.796\n",
      "Prob(Omnibus):                  0.286   Jarque-Bera (JB):                2.368\n",
      "Skew:                           0.178   Prob(JB):                        0.306\n",
      "Kurtosis:                       3.048   Cond. No.                         3.68\n",
      "==============================================================================\n",
      "\n",
      "Notes:\n",
      "[1] Standard Errors are heteroscedasticity robust (HC3)\n"
     ]
    }
   ],
   "source": [
    "#Markup on manufacturing cost\n",
    "ln_markup = np.log(costplus['markup'])\n",
    "ln_manuf_cost = np.log(costplus['manuf_cost'])\n",
    "ln_manuf_cost = sm.add_constant(ln_manuf_cost)\n",
    "model = sm.OLS(ln_markup, ln_manuf_cost, missing = 'drop')\n",
    "#Heteroskedasticity robust SE\n",
    "results = model.fit(cov_type='HC3')\n",
    "print(results.summary())"
   ]
  },
  {
   "cell_type": "markdown",
   "id": "fc45caca-add9-431c-a734-a13bd20a00a6",
   "metadata": {},
   "source": [
    "Interestingly, the coefficient on ln(manuf_cost) is negative. In particular, this indicates\n",
    "that for a 1% change in manuf cost, markup decreases by .275%, on average. Similarly to the\n",
    "first regression, the markup is quite inelastic to changes in manufacturing cost, to an even\n",
    "higher degree compared to the retail price. On first glance, the sign on the coefficient doesn’t\n",
    "make sense, since we would expect that an increase in manufacturing cost should increase\n",
    "the markup, since the manufacturer would want to recoup more of the manufacturing cost.\n",
    "However, the first regression suggests that has the manufacturing cost increases, the\n",
    "retail price increases as well, although not as much as the manufacturing cost. Therefore,\n",
    "the manufacturing cost increases faster than the retail price on average, and so an increase in\n",
    "the manufacturing costs results in a decrease the markup. However, the R2 is quite low for\n",
    "the second regression, which indicates that manufacturing costs explain little of the variance\n",
    "in the markup."
   ]
  },
  {
   "cell_type": "code",
   "execution_count": 26,
   "id": "2bde7909-014f-4f63-a1b0-2264b37110f5",
   "metadata": {
    "tags": []
   },
   "outputs": [],
   "source": [
    "#Generates LaTeX code for regression table\n",
    "markup_OLS = Stargazer([results])\n",
    "#print(markup_OLS.render_latex())"
   ]
  },
  {
   "cell_type": "markdown",
   "id": "c6efe37c-c64b-4e76-a77e-814f80d85fa5",
   "metadata": {},
   "source": [
    "# Analysis of the Medicaid Data"
   ]
  },
  {
   "cell_type": "code",
   "execution_count": 27,
   "id": "77740dba-a8e1-49cb-b46b-9a8a89e1e389",
   "metadata": {
    "tags": []
   },
   "outputs": [],
   "source": [
    "med_panel = pd.read_csv(\"C:\\\\Users\\\\ttrap\\\\Desktop\\\\ECON 191\\\\med_panel.csv\")"
   ]
  },
  {
   "cell_type": "code",
   "execution_count": 28,
   "id": "6260dc49-f5a5-4a13-a7cf-c3dc1737741c",
   "metadata": {
    "tags": []
   },
   "outputs": [
    {
     "data": {
      "text/plain": [
       "(80730, 11)"
      ]
     },
     "execution_count": 28,
     "metadata": {},
     "output_type": "execute_result"
    }
   ],
   "source": [
    "#13,751 * 5 total observations (13,751 units, 5 time periods)\n",
    "med_panel.shape"
   ]
  },
  {
   "cell_type": "code",
   "execution_count": 29,
   "id": "93c1df67-ee2e-4669-9c2d-f1ee5c4a457b",
   "metadata": {
    "tags": []
   },
   "outputs": [
    {
     "data": {
      "text/html": [
       "<div>\n",
       "<style scoped>\n",
       "    .dataframe tbody tr th:only-of-type {\n",
       "        vertical-align: middle;\n",
       "    }\n",
       "\n",
       "    .dataframe tbody tr th {\n",
       "        vertical-align: top;\n",
       "    }\n",
       "\n",
       "    .dataframe thead th {\n",
       "        text-align: right;\n",
       "    }\n",
       "</style>\n",
       "<table border=\"1\" class=\"dataframe\">\n",
       "  <thead>\n",
       "    <tr style=\"text-align: right;\">\n",
       "      <th></th>\n",
       "      <th>Brnd_Name</th>\n",
       "      <th>Gnrc_Name</th>\n",
       "      <th>Tot_Mftr</th>\n",
       "      <th>Mftr_Name</th>\n",
       "      <th>Year</th>\n",
       "      <th>Tot_Spndng</th>\n",
       "      <th>Tot_Dsg_Unts</th>\n",
       "      <th>Tot_Clms</th>\n",
       "      <th>Avg_Spnd_Per_Dsg_Unt_Wghtd</th>\n",
       "      <th>Avg_Spnd_Per_Clm</th>\n",
       "      <th>Outlier_Flag</th>\n",
       "    </tr>\n",
       "  </thead>\n",
       "  <tbody>\n",
       "    <tr>\n",
       "      <th>0</th>\n",
       "      <td>8hr Arthritis Pain</td>\n",
       "      <td>Acetaminophen</td>\n",
       "      <td>1</td>\n",
       "      <td>Overall</td>\n",
       "      <td>2017</td>\n",
       "      <td>0.00</td>\n",
       "      <td>0.0</td>\n",
       "      <td>0.0</td>\n",
       "      <td>0.000000</td>\n",
       "      <td>0.000000</td>\n",
       "      <td>0.0</td>\n",
       "    </tr>\n",
       "    <tr>\n",
       "      <th>1</th>\n",
       "      <td>8hr Arthritis Pain</td>\n",
       "      <td>Acetaminophen</td>\n",
       "      <td>1</td>\n",
       "      <td>Overall</td>\n",
       "      <td>2018</td>\n",
       "      <td>0.00</td>\n",
       "      <td>0.0</td>\n",
       "      <td>0.0</td>\n",
       "      <td>0.000000</td>\n",
       "      <td>0.000000</td>\n",
       "      <td>0.0</td>\n",
       "    </tr>\n",
       "    <tr>\n",
       "      <th>2</th>\n",
       "      <td>8hr Arthritis Pain</td>\n",
       "      <td>Acetaminophen</td>\n",
       "      <td>1</td>\n",
       "      <td>Overall</td>\n",
       "      <td>2019</td>\n",
       "      <td>733.42</td>\n",
       "      <td>11256.0</td>\n",
       "      <td>140.0</td>\n",
       "      <td>0.065158</td>\n",
       "      <td>5.238714</td>\n",
       "      <td>1.0</td>\n",
       "    </tr>\n",
       "    <tr>\n",
       "      <th>3</th>\n",
       "      <td>8hr Arthritis Pain</td>\n",
       "      <td>Acetaminophen</td>\n",
       "      <td>1</td>\n",
       "      <td>Overall</td>\n",
       "      <td>2020</td>\n",
       "      <td>426.96</td>\n",
       "      <td>4459.0</td>\n",
       "      <td>46.0</td>\n",
       "      <td>0.095752</td>\n",
       "      <td>9.281739</td>\n",
       "      <td>1.0</td>\n",
       "    </tr>\n",
       "    <tr>\n",
       "      <th>4</th>\n",
       "      <td>8hr Arthritis Pain</td>\n",
       "      <td>Acetaminophen</td>\n",
       "      <td>1</td>\n",
       "      <td>Overall</td>\n",
       "      <td>2021</td>\n",
       "      <td>331.69</td>\n",
       "      <td>4642.0</td>\n",
       "      <td>54.0</td>\n",
       "      <td>0.071454</td>\n",
       "      <td>6.142407</td>\n",
       "      <td>1.0</td>\n",
       "    </tr>\n",
       "    <tr>\n",
       "      <th>...</th>\n",
       "      <td>...</td>\n",
       "      <td>...</td>\n",
       "      <td>...</td>\n",
       "      <td>...</td>\n",
       "      <td>...</td>\n",
       "      <td>...</td>\n",
       "      <td>...</td>\n",
       "      <td>...</td>\n",
       "      <td>...</td>\n",
       "      <td>...</td>\n",
       "      <td>...</td>\n",
       "    </tr>\n",
       "    <tr>\n",
       "      <th>80725</th>\n",
       "      <td>Zyvox</td>\n",
       "      <td>Linezolid In Dextrose 5%</td>\n",
       "      <td>1</td>\n",
       "      <td>Phar-Nov/Pfizer</td>\n",
       "      <td>2017</td>\n",
       "      <td>51872.75</td>\n",
       "      <td>185291.0</td>\n",
       "      <td>152.0</td>\n",
       "      <td>0.279953</td>\n",
       "      <td>341.268092</td>\n",
       "      <td>1.0</td>\n",
       "    </tr>\n",
       "    <tr>\n",
       "      <th>80726</th>\n",
       "      <td>Zyvox</td>\n",
       "      <td>Linezolid In Dextrose 5%</td>\n",
       "      <td>1</td>\n",
       "      <td>Phar-Nov/Pfizer</td>\n",
       "      <td>2018</td>\n",
       "      <td>24927.29</td>\n",
       "      <td>102880.0</td>\n",
       "      <td>143.0</td>\n",
       "      <td>0.242295</td>\n",
       "      <td>174.316713</td>\n",
       "      <td>1.0</td>\n",
       "    </tr>\n",
       "    <tr>\n",
       "      <th>80727</th>\n",
       "      <td>Zyvox</td>\n",
       "      <td>Linezolid In Dextrose 5%</td>\n",
       "      <td>1</td>\n",
       "      <td>Phar-Nov/Pfizer</td>\n",
       "      <td>2019</td>\n",
       "      <td>24891.40</td>\n",
       "      <td>123138.0</td>\n",
       "      <td>138.0</td>\n",
       "      <td>0.202142</td>\n",
       "      <td>180.372464</td>\n",
       "      <td>0.0</td>\n",
       "    </tr>\n",
       "    <tr>\n",
       "      <th>80728</th>\n",
       "      <td>Zyvox</td>\n",
       "      <td>Linezolid In Dextrose 5%</td>\n",
       "      <td>1</td>\n",
       "      <td>Phar-Nov/Pfizer</td>\n",
       "      <td>2020</td>\n",
       "      <td>12952.81</td>\n",
       "      <td>82628.0</td>\n",
       "      <td>162.0</td>\n",
       "      <td>0.156761</td>\n",
       "      <td>79.955617</td>\n",
       "      <td>0.0</td>\n",
       "    </tr>\n",
       "    <tr>\n",
       "      <th>80729</th>\n",
       "      <td>Zyvox</td>\n",
       "      <td>Linezolid In Dextrose 5%</td>\n",
       "      <td>1</td>\n",
       "      <td>Phar-Nov/Pfizer</td>\n",
       "      <td>2021</td>\n",
       "      <td>23253.30</td>\n",
       "      <td>82768.0</td>\n",
       "      <td>130.0</td>\n",
       "      <td>0.280946</td>\n",
       "      <td>178.871538</td>\n",
       "      <td>0.0</td>\n",
       "    </tr>\n",
       "  </tbody>\n",
       "</table>\n",
       "<p>80730 rows × 11 columns</p>\n",
       "</div>"
      ],
      "text/plain": [
       "                Brnd_Name                 Gnrc_Name  Tot_Mftr  \\\n",
       "0      8hr Arthritis Pain             Acetaminophen         1   \n",
       "1      8hr Arthritis Pain             Acetaminophen         1   \n",
       "2      8hr Arthritis Pain             Acetaminophen         1   \n",
       "3      8hr Arthritis Pain             Acetaminophen         1   \n",
       "4      8hr Arthritis Pain             Acetaminophen         1   \n",
       "...                   ...                       ...       ...   \n",
       "80725               Zyvox  Linezolid In Dextrose 5%         1   \n",
       "80726               Zyvox  Linezolid In Dextrose 5%         1   \n",
       "80727               Zyvox  Linezolid In Dextrose 5%         1   \n",
       "80728               Zyvox  Linezolid In Dextrose 5%         1   \n",
       "80729               Zyvox  Linezolid In Dextrose 5%         1   \n",
       "\n",
       "             Mftr_Name  Year  Tot_Spndng  Tot_Dsg_Unts  Tot_Clms  \\\n",
       "0              Overall  2017        0.00           0.0       0.0   \n",
       "1              Overall  2018        0.00           0.0       0.0   \n",
       "2              Overall  2019      733.42       11256.0     140.0   \n",
       "3              Overall  2020      426.96        4459.0      46.0   \n",
       "4              Overall  2021      331.69        4642.0      54.0   \n",
       "...                ...   ...         ...           ...       ...   \n",
       "80725  Phar-Nov/Pfizer  2017    51872.75      185291.0     152.0   \n",
       "80726  Phar-Nov/Pfizer  2018    24927.29      102880.0     143.0   \n",
       "80727  Phar-Nov/Pfizer  2019    24891.40      123138.0     138.0   \n",
       "80728  Phar-Nov/Pfizer  2020    12952.81       82628.0     162.0   \n",
       "80729  Phar-Nov/Pfizer  2021    23253.30       82768.0     130.0   \n",
       "\n",
       "       Avg_Spnd_Per_Dsg_Unt_Wghtd  Avg_Spnd_Per_Clm  Outlier_Flag  \n",
       "0                        0.000000          0.000000           0.0  \n",
       "1                        0.000000          0.000000           0.0  \n",
       "2                        0.065158          5.238714           1.0  \n",
       "3                        0.095752          9.281739           1.0  \n",
       "4                        0.071454          6.142407           1.0  \n",
       "...                           ...               ...           ...  \n",
       "80725                    0.279953        341.268092           1.0  \n",
       "80726                    0.242295        174.316713           1.0  \n",
       "80727                    0.202142        180.372464           0.0  \n",
       "80728                    0.156761         79.955617           0.0  \n",
       "80729                    0.280946        178.871538           0.0  \n",
       "\n",
       "[80730 rows x 11 columns]"
      ]
     },
     "execution_count": 29,
     "metadata": {},
     "output_type": "execute_result"
    }
   ],
   "source": [
    "med_panel"
   ]
  },
  {
   "cell_type": "code",
   "execution_count": 30,
   "id": "35c4ebe7-0eee-4ac4-a8b6-a76819eb2c30",
   "metadata": {
    "tags": []
   },
   "outputs": [],
   "source": [
    "#Filtering for overall, not outlier\n",
    "med_panel_agg = med_panel[(med_panel['Mftr_Name'] == 'Overall') & (med_panel['Outlier_Flag'] == 0) & (med_panel['Tot_Spndng'] > 0)]"
   ]
  },
  {
   "cell_type": "code",
   "execution_count": 31,
   "id": "85cbd06c-908e-4721-8966-29abf9f612ad",
   "metadata": {
    "tags": []
   },
   "outputs": [],
   "source": [
    "#Filtering for not overall, not outlier\n",
    "med_panel_ind = med_panel[(med_panel['Mftr_Name'] != 'Overall') & (med_panel['Outlier_Flag'] == 0) & (med_panel['Tot_Spndng'] > 0)]"
   ]
  },
  {
   "cell_type": "code",
   "execution_count": 32,
   "id": "28a87de4-c5f3-4090-a5b3-110ea911b79c",
   "metadata": {
    "tags": []
   },
   "outputs": [
    {
     "data": {
      "text/html": [
       "<div>\n",
       "<style scoped>\n",
       "    .dataframe tbody tr th:only-of-type {\n",
       "        vertical-align: middle;\n",
       "    }\n",
       "\n",
       "    .dataframe tbody tr th {\n",
       "        vertical-align: top;\n",
       "    }\n",
       "\n",
       "    .dataframe thead th {\n",
       "        text-align: right;\n",
       "    }\n",
       "</style>\n",
       "<table border=\"1\" class=\"dataframe\">\n",
       "  <thead>\n",
       "    <tr style=\"text-align: right;\">\n",
       "      <th></th>\n",
       "      <th>Brnd_Name</th>\n",
       "      <th>Gnrc_Name</th>\n",
       "      <th>Tot_Mftr</th>\n",
       "      <th>Mftr_Name</th>\n",
       "      <th>Year</th>\n",
       "      <th>Tot_Spndng</th>\n",
       "      <th>Tot_Dsg_Unts</th>\n",
       "      <th>Tot_Clms</th>\n",
       "      <th>Avg_Spnd_Per_Dsg_Unt_Wghtd</th>\n",
       "      <th>Avg_Spnd_Per_Clm</th>\n",
       "      <th>Outlier_Flag</th>\n",
       "    </tr>\n",
       "  </thead>\n",
       "  <tbody>\n",
       "    <tr>\n",
       "      <th>60</th>\n",
       "      <td>Abacavir</td>\n",
       "      <td>Abacavir Sulfate</td>\n",
       "      <td>6</td>\n",
       "      <td>Overall</td>\n",
       "      <td>2017</td>\n",
       "      <td>4855932.38</td>\n",
       "      <td>1454929.000</td>\n",
       "      <td>22799.0</td>\n",
       "      <td>3.629691</td>\n",
       "      <td>212.988832</td>\n",
       "      <td>0.0</td>\n",
       "    </tr>\n",
       "    <tr>\n",
       "      <th>61</th>\n",
       "      <td>Abacavir</td>\n",
       "      <td>Abacavir Sulfate</td>\n",
       "      <td>6</td>\n",
       "      <td>Overall</td>\n",
       "      <td>2018</td>\n",
       "      <td>3000495.65</td>\n",
       "      <td>1870113.000</td>\n",
       "      <td>20097.0</td>\n",
       "      <td>2.298001</td>\n",
       "      <td>149.300674</td>\n",
       "      <td>0.0</td>\n",
       "    </tr>\n",
       "    <tr>\n",
       "      <th>62</th>\n",
       "      <td>Abacavir</td>\n",
       "      <td>Abacavir Sulfate</td>\n",
       "      <td>6</td>\n",
       "      <td>Overall</td>\n",
       "      <td>2019</td>\n",
       "      <td>2446359.81</td>\n",
       "      <td>1621617.000</td>\n",
       "      <td>15983.0</td>\n",
       "      <td>2.277064</td>\n",
       "      <td>153.060114</td>\n",
       "      <td>0.0</td>\n",
       "    </tr>\n",
       "    <tr>\n",
       "      <th>63</th>\n",
       "      <td>Abacavir</td>\n",
       "      <td>Abacavir Sulfate</td>\n",
       "      <td>6</td>\n",
       "      <td>Overall</td>\n",
       "      <td>2020</td>\n",
       "      <td>1721889.97</td>\n",
       "      <td>1364799.294</td>\n",
       "      <td>12949.0</td>\n",
       "      <td>1.868880</td>\n",
       "      <td>132.974745</td>\n",
       "      <td>0.0</td>\n",
       "    </tr>\n",
       "    <tr>\n",
       "      <th>64</th>\n",
       "      <td>Abacavir</td>\n",
       "      <td>Abacavir Sulfate</td>\n",
       "      <td>6</td>\n",
       "      <td>Overall</td>\n",
       "      <td>2021</td>\n",
       "      <td>1404972.50</td>\n",
       "      <td>1239824.000</td>\n",
       "      <td>10708.0</td>\n",
       "      <td>1.758827</td>\n",
       "      <td>131.207742</td>\n",
       "      <td>0.0</td>\n",
       "    </tr>\n",
       "  </tbody>\n",
       "</table>\n",
       "</div>"
      ],
      "text/plain": [
       "   Brnd_Name         Gnrc_Name  Tot_Mftr Mftr_Name  Year  Tot_Spndng  \\\n",
       "60  Abacavir  Abacavir Sulfate         6   Overall  2017  4855932.38   \n",
       "61  Abacavir  Abacavir Sulfate         6   Overall  2018  3000495.65   \n",
       "62  Abacavir  Abacavir Sulfate         6   Overall  2019  2446359.81   \n",
       "63  Abacavir  Abacavir Sulfate         6   Overall  2020  1721889.97   \n",
       "64  Abacavir  Abacavir Sulfate         6   Overall  2021  1404972.50   \n",
       "\n",
       "    Tot_Dsg_Unts  Tot_Clms  Avg_Spnd_Per_Dsg_Unt_Wghtd  Avg_Spnd_Per_Clm  \\\n",
       "60   1454929.000   22799.0                    3.629691        212.988832   \n",
       "61   1870113.000   20097.0                    2.298001        149.300674   \n",
       "62   1621617.000   15983.0                    2.277064        153.060114   \n",
       "63   1364799.294   12949.0                    1.868880        132.974745   \n",
       "64   1239824.000   10708.0                    1.758827        131.207742   \n",
       "\n",
       "    Outlier_Flag  \n",
       "60           0.0  \n",
       "61           0.0  \n",
       "62           0.0  \n",
       "63           0.0  \n",
       "64           0.0  "
      ]
     },
     "execution_count": 32,
     "metadata": {},
     "output_type": "execute_result"
    }
   ],
   "source": [
    "med_panel_agg.head()"
   ]
  },
  {
   "cell_type": "code",
   "execution_count": 33,
   "id": "c25a20f2-e308-40b3-afe7-8c7a32f7026e",
   "metadata": {
    "tags": []
   },
   "outputs": [],
   "source": [
    "med_panel_agg.to_csv(\"C:\\\\Users\\\\ttrap\\\\Desktop\\\\ECON 191\\\\med_panel_agg.csv\", index = False)"
   ]
  },
  {
   "cell_type": "markdown",
   "id": "f1fed998-e008-4e8c-8937-332507023737",
   "metadata": {},
   "source": [
    "## Summary Statistics"
   ]
  },
  {
   "cell_type": "code",
   "execution_count": 34,
   "id": "d54fcf94-c83f-4f76-a5a2-3fa2b4f0b6b8",
   "metadata": {
    "tags": []
   },
   "outputs": [
    {
     "data": {
      "text/plain": [
       "(12740, 11)"
      ]
     },
     "execution_count": 34,
     "metadata": {},
     "output_type": "execute_result"
    }
   ],
   "source": [
    "med_panel_agg.shape"
   ]
  },
  {
   "cell_type": "code",
   "execution_count": 35,
   "id": "d01fe6f0-e362-4de0-b753-c934eac5bd3e",
   "metadata": {
    "tags": []
   },
   "outputs": [
    {
     "data": {
      "text/plain": [
       "count    12740.000000\n",
       "mean         3.337834\n",
       "std          4.789239\n",
       "min          1.000000\n",
       "25%          1.000000\n",
       "50%          1.000000\n",
       "75%          3.000000\n",
       "max         44.000000\n",
       "Name: Tot_Mftr, dtype: float64"
      ]
     },
     "execution_count": 35,
     "metadata": {},
     "output_type": "execute_result"
    }
   ],
   "source": [
    "med_panel_agg['Tot_Mftr'].describe()"
   ]
  },
  {
   "cell_type": "code",
   "execution_count": 36,
   "id": "38214e41-be82-426a-912a-0c5fb64d2c7a",
   "metadata": {
    "tags": []
   },
   "outputs": [
    {
     "data": {
      "text/plain": [
       "count    12740.000000\n",
       "mean       283.403852\n",
       "std       1699.071105\n",
       "min          0.000329\n",
       "25%          0.692086\n",
       "50%          4.447220\n",
       "75%         27.832597\n",
       "max      39359.911863\n",
       "Name: Avg_Spnd_Per_Dsg_Unt_Wghtd, dtype: float64"
      ]
     },
     "execution_count": 36,
     "metadata": {},
     "output_type": "execute_result"
    }
   ],
   "source": [
    "med_panel_agg['Avg_Spnd_Per_Dsg_Unt_Wghtd'].describe()"
   ]
  },
  {
   "cell_type": "code",
   "execution_count": 37,
   "id": "4717b756-c2c3-4fdf-9d03-316d18a66891",
   "metadata": {
    "tags": []
   },
   "outputs": [
    {
     "data": {
      "text/plain": [
       "count    1.274000e+04\n",
       "mean     2.512713e+05\n",
       "std      1.039414e+06\n",
       "min      3.600000e+01\n",
       "25%      1.533000e+03\n",
       "50%      8.156500e+03\n",
       "75%      5.508175e+04\n",
       "max      1.508415e+07\n",
       "Name: Tot_Clms, dtype: float64"
      ]
     },
     "execution_count": 37,
     "metadata": {},
     "output_type": "execute_result"
    }
   ],
   "source": [
    "med_panel_agg['Tot_Clms'].describe()"
   ]
  },
  {
   "cell_type": "code",
   "execution_count": 38,
   "id": "c539ddc8-6a77-4876-a1c4-994eb83839b7",
   "metadata": {
    "tags": []
   },
   "outputs": [
    {
     "data": {
      "text/plain": [
       "count     12740.000000\n",
       "mean       2097.987817\n",
       "std        7255.865162\n",
       "min           0.894512\n",
       "25%          35.361067\n",
       "50%         183.802171\n",
       "75%         681.247235\n",
       "max      187153.849760\n",
       "Name: Avg_Spnd_Per_Clm, dtype: float64"
      ]
     },
     "execution_count": 38,
     "metadata": {},
     "output_type": "execute_result"
    }
   ],
   "source": [
    "med_panel_agg['Avg_Spnd_Per_Clm'].describe()"
   ]
  },
  {
   "cell_type": "code",
   "execution_count": 39,
   "id": "0dd0b187-dd29-4311-934b-cf0dde8f4677",
   "metadata": {
    "tags": []
   },
   "outputs": [
    {
     "data": {
      "text/plain": [
       "count    1.274000e+04\n",
       "mean     2.633088e+07\n",
       "std      9.437335e+07\n",
       "min      2.167100e+02\n",
       "25%      3.620074e+05\n",
       "50%      2.170707e+06\n",
       "75%      1.386572e+07\n",
       "max      2.730141e+09\n",
       "Name: Tot_Spndng, dtype: float64"
      ]
     },
     "execution_count": 39,
     "metadata": {},
     "output_type": "execute_result"
    }
   ],
   "source": [
    "med_panel_agg['Tot_Spndng'].describe()"
   ]
  },
  {
   "cell_type": "code",
   "execution_count": 40,
   "id": "59242651-ad9f-40e1-83e6-e58a182f319e",
   "metadata": {
    "tags": []
   },
   "outputs": [
    {
     "data": {
      "text/plain": [
       "<AxesSubplot:xlabel='Tot_Clms', ylabel='Density'>"
      ]
     },
     "execution_count": 40,
     "metadata": {},
     "output_type": "execute_result"
    },
    {
     "data": {
      "image/png": "[encoded data removed]",
      "text/plain": [
       "<Figure size 432x288 with 1 Axes>"
      ]
     },
     "metadata": {
      "needs_background": "light"
     },
     "output_type": "display_data"
    }
   ],
   "source": [
    "sns.histplot(x = np.log(med_panel_agg['Tot_Clms']), stat = 'density')"
   ]
  },
  {
   "cell_type": "markdown",
   "id": "29abcbe4-ba7d-47ad-b505-31ec6524304a",
   "metadata": {},
   "source": [
    "First, let's compare the effect of the total number of manufacturers on the average cost per dosage and the average cost per claim naively: we don't consider the time index for these first regressions."
   ]
  },
  {
   "cell_type": "markdown",
   "id": "194c6db1-5ffb-47b5-a69e-30cec130b9c8",
   "metadata": {},
   "source": [
    "### Running into trouble with regressing cost variables on total manufacturers: create dummies for total manufacturers, since the effect of manufacturers is nonlinear."
   ]
  },
  {
   "cell_type": "markdown",
   "id": "2269e729-5bee-48f6-8371-88578b3e7d2c",
   "metadata": {},
   "source": [
    "The effect of the number of manufacturers on the average cost is non-linear, so we will run the regression by creating dummies for each of the values of the number of manufacturers, except for 1. "
   ]
  },
  {
   "cell_type": "code",
   "execution_count": 41,
   "id": "086b43a5-2ec5-47cf-9e78-75a9bf03a0b2",
   "metadata": {
    "tags": []
   },
   "outputs": [],
   "source": [
    "#Creating dummies\n",
    "manuf_dummies = pd.get_dummies(med_panel_agg['Tot_Mftr'])\n",
    "manuf_dummies = manuf_dummies.drop(columns = 1)"
   ]
  },
  {
   "cell_type": "code",
   "execution_count": 42,
   "id": "e45bae19-4996-471b-a76a-97b1f121eb12",
   "metadata": {
    "tags": []
   },
   "outputs": [
    {
     "data": {
      "text/plain": [
       "<AxesSubplot:xlabel='Tot_Mftr', ylabel='Avg_Spnd_Per_Dsg_Unt_Wghtd'>"
      ]
     },
     "execution_count": 42,
     "metadata": {},
     "output_type": "execute_result"
    },
    {
     "data": {
      "image/png": "[encoded data removed]",
      "text/plain": [
       "<Figure size 432x288 with 1 Axes>"
      ]
     },
     "metadata": {
      "needs_background": "light"
     },
     "output_type": "display_data"
    }
   ],
   "source": [
    "sns.violinplot(x = med_panel_agg['Tot_Mftr'] , y = np.log(med_panel_agg['Avg_Spnd_Per_Dsg_Unt_Wghtd']))"
   ]
  },
  {
   "cell_type": "markdown",
   "id": "8161fc79-f834-40b9-83b3-89549fc287cb",
   "metadata": {},
   "source": [
    "This violin plot shows the distribution of the log of the average cost per dosage unit for each number of manufacturers. It is somewhat difficult to get an idea of the relationship, so we can also calculate the mean average cost per unit for each number of manufacturers and plot it:"
   ]
  },
  {
   "cell_type": "code",
   "execution_count": 43,
   "id": "f8e1c420-23f9-415e-9f34-597c412d2157",
   "metadata": {
    "tags": []
   },
   "outputs": [
    {
     "data": {
      "text/html": [
       "<div>\n",
       "<style scoped>\n",
       "    .dataframe tbody tr th:only-of-type {\n",
       "        vertical-align: middle;\n",
       "    }\n",
       "\n",
       "    .dataframe tbody tr th {\n",
       "        vertical-align: top;\n",
       "    }\n",
       "\n",
       "    .dataframe thead th {\n",
       "        text-align: right;\n",
       "    }\n",
       "</style>\n",
       "<table border=\"1\" class=\"dataframe\">\n",
       "  <thead>\n",
       "    <tr style=\"text-align: right;\">\n",
       "      <th></th>\n",
       "      <th>Tot_Mftr</th>\n",
       "      <th>Year</th>\n",
       "      <th>Tot_Spndng</th>\n",
       "      <th>Tot_Dsg_Unts</th>\n",
       "      <th>Tot_Clms</th>\n",
       "      <th>Avg_Spnd_Per_Dsg_Unt_Wghtd</th>\n",
       "      <th>Avg_Spnd_Per_Clm</th>\n",
       "      <th>Outlier_Flag</th>\n",
       "    </tr>\n",
       "  </thead>\n",
       "  <tbody>\n",
       "    <tr>\n",
       "      <th>0</th>\n",
       "      <td>1</td>\n",
       "      <td>2019.112669</td>\n",
       "      <td>3.301522e+07</td>\n",
       "      <td>3.676089e+06</td>\n",
       "      <td>5.199586e+04</td>\n",
       "      <td>431.302987</td>\n",
       "      <td>3098.161517</td>\n",
       "      <td>0.0</td>\n",
       "    </tr>\n",
       "    <tr>\n",
       "      <th>1</th>\n",
       "      <td>2</td>\n",
       "      <td>2019.095569</td>\n",
       "      <td>1.176625e+07</td>\n",
       "      <td>3.866811e+06</td>\n",
       "      <td>4.036576e+04</td>\n",
       "      <td>108.274121</td>\n",
       "      <td>922.328824</td>\n",
       "      <td>0.0</td>\n",
       "    </tr>\n",
       "    <tr>\n",
       "      <th>2</th>\n",
       "      <td>3</td>\n",
       "      <td>2019.076779</td>\n",
       "      <td>3.918819e+06</td>\n",
       "      <td>8.135092e+06</td>\n",
       "      <td>5.993998e+04</td>\n",
       "      <td>26.694474</td>\n",
       "      <td>325.579292</td>\n",
       "      <td>0.0</td>\n",
       "    </tr>\n",
       "    <tr>\n",
       "      <th>3</th>\n",
       "      <td>4</td>\n",
       "      <td>2019.055814</td>\n",
       "      <td>2.566054e+06</td>\n",
       "      <td>3.646651e+07</td>\n",
       "      <td>6.172056e+04</td>\n",
       "      <td>16.297166</td>\n",
       "      <td>388.609648</td>\n",
       "      <td>0.0</td>\n",
       "    </tr>\n",
       "    <tr>\n",
       "      <th>4</th>\n",
       "      <td>5</td>\n",
       "      <td>2019.043614</td>\n",
       "      <td>5.063174e+06</td>\n",
       "      <td>6.952504e+07</td>\n",
       "      <td>8.114496e+04</td>\n",
       "      <td>5.811611</td>\n",
       "      <td>211.720653</td>\n",
       "      <td>0.0</td>\n",
       "    </tr>\n",
       "    <tr>\n",
       "      <th>5</th>\n",
       "      <td>6</td>\n",
       "      <td>2019.066445</td>\n",
       "      <td>4.959821e+06</td>\n",
       "      <td>6.632043e+06</td>\n",
       "      <td>1.520170e+05</td>\n",
       "      <td>10.779872</td>\n",
       "      <td>358.598233</td>\n",
       "      <td>0.0</td>\n",
       "    </tr>\n",
       "    <tr>\n",
       "      <th>6</th>\n",
       "      <td>7</td>\n",
       "      <td>2019.054795</td>\n",
       "      <td>6.585734e+06</td>\n",
       "      <td>2.299212e+07</td>\n",
       "      <td>2.367702e+05</td>\n",
       "      <td>15.061554</td>\n",
       "      <td>404.587266</td>\n",
       "      <td>0.0</td>\n",
       "    </tr>\n",
       "    <tr>\n",
       "      <th>7</th>\n",
       "      <td>8</td>\n",
       "      <td>2019.080153</td>\n",
       "      <td>1.946026e+07</td>\n",
       "      <td>4.677243e+07</td>\n",
       "      <td>6.037263e+05</td>\n",
       "      <td>11.343392</td>\n",
       "      <td>400.289380</td>\n",
       "      <td>0.0</td>\n",
       "    </tr>\n",
       "    <tr>\n",
       "      <th>8</th>\n",
       "      <td>9</td>\n",
       "      <td>2018.986364</td>\n",
       "      <td>1.464189e+07</td>\n",
       "      <td>2.791864e+07</td>\n",
       "      <td>5.225579e+05</td>\n",
       "      <td>2.235584</td>\n",
       "      <td>93.300273</td>\n",
       "      <td>0.0</td>\n",
       "    </tr>\n",
       "    <tr>\n",
       "      <th>9</th>\n",
       "      <td>10</td>\n",
       "      <td>2019.023585</td>\n",
       "      <td>2.016587e+07</td>\n",
       "      <td>3.601650e+07</td>\n",
       "      <td>8.832395e+05</td>\n",
       "      <td>7.665514</td>\n",
       "      <td>253.942607</td>\n",
       "      <td>0.0</td>\n",
       "    </tr>\n",
       "    <tr>\n",
       "      <th>10</th>\n",
       "      <td>11</td>\n",
       "      <td>2019.000000</td>\n",
       "      <td>2.503506e+07</td>\n",
       "      <td>6.328908e+08</td>\n",
       "      <td>5.652789e+05</td>\n",
       "      <td>0.945891</td>\n",
       "      <td>43.244407</td>\n",
       "      <td>0.0</td>\n",
       "    </tr>\n",
       "    <tr>\n",
       "      <th>11</th>\n",
       "      <td>12</td>\n",
       "      <td>2019.059829</td>\n",
       "      <td>2.846364e+07</td>\n",
       "      <td>4.234772e+07</td>\n",
       "      <td>9.415695e+05</td>\n",
       "      <td>9.062669</td>\n",
       "      <td>293.313624</td>\n",
       "      <td>0.0</td>\n",
       "    </tr>\n",
       "    <tr>\n",
       "      <th>12</th>\n",
       "      <td>13</td>\n",
       "      <td>2019.058252</td>\n",
       "      <td>2.278173e+07</td>\n",
       "      <td>7.025757e+07</td>\n",
       "      <td>1.276593e+06</td>\n",
       "      <td>0.796684</td>\n",
       "      <td>44.836307</td>\n",
       "      <td>0.0</td>\n",
       "    </tr>\n",
       "    <tr>\n",
       "      <th>13</th>\n",
       "      <td>14</td>\n",
       "      <td>2019.037037</td>\n",
       "      <td>2.977036e+07</td>\n",
       "      <td>7.747244e+07</td>\n",
       "      <td>1.662867e+06</td>\n",
       "      <td>1.635641</td>\n",
       "      <td>59.916366</td>\n",
       "      <td>0.0</td>\n",
       "    </tr>\n",
       "    <tr>\n",
       "      <th>14</th>\n",
       "      <td>15</td>\n",
       "      <td>2019.022727</td>\n",
       "      <td>2.041125e+07</td>\n",
       "      <td>5.980986e+07</td>\n",
       "      <td>1.260091e+06</td>\n",
       "      <td>3.673740</td>\n",
       "      <td>253.258978</td>\n",
       "      <td>0.0</td>\n",
       "    </tr>\n",
       "    <tr>\n",
       "      <th>15</th>\n",
       "      <td>16</td>\n",
       "      <td>2019.027523</td>\n",
       "      <td>4.030934e+07</td>\n",
       "      <td>5.894798e+07</td>\n",
       "      <td>1.554640e+06</td>\n",
       "      <td>4.649316</td>\n",
       "      <td>103.015029</td>\n",
       "      <td>0.0</td>\n",
       "    </tr>\n",
       "    <tr>\n",
       "      <th>16</th>\n",
       "      <td>17</td>\n",
       "      <td>2019.025000</td>\n",
       "      <td>2.327305e+07</td>\n",
       "      <td>1.000407e+08</td>\n",
       "      <td>1.400744e+06</td>\n",
       "      <td>24.015607</td>\n",
       "      <td>63.541501</td>\n",
       "      <td>0.0</td>\n",
       "    </tr>\n",
       "    <tr>\n",
       "      <th>17</th>\n",
       "      <td>18</td>\n",
       "      <td>2019.000000</td>\n",
       "      <td>2.697548e+07</td>\n",
       "      <td>9.067366e+07</td>\n",
       "      <td>1.644542e+06</td>\n",
       "      <td>0.957009</td>\n",
       "      <td>72.211624</td>\n",
       "      <td>0.0</td>\n",
       "    </tr>\n",
       "    <tr>\n",
       "      <th>18</th>\n",
       "      <td>19</td>\n",
       "      <td>2019.000000</td>\n",
       "      <td>6.720721e+07</td>\n",
       "      <td>1.567645e+08</td>\n",
       "      <td>3.783421e+06</td>\n",
       "      <td>0.839317</td>\n",
       "      <td>35.726441</td>\n",
       "      <td>0.0</td>\n",
       "    </tr>\n",
       "    <tr>\n",
       "      <th>19</th>\n",
       "      <td>20</td>\n",
       "      <td>2019.000000</td>\n",
       "      <td>4.849783e+07</td>\n",
       "      <td>3.429694e+08</td>\n",
       "      <td>5.132836e+06</td>\n",
       "      <td>21.845694</td>\n",
       "      <td>305.756691</td>\n",
       "      <td>0.0</td>\n",
       "    </tr>\n",
       "    <tr>\n",
       "      <th>20</th>\n",
       "      <td>21</td>\n",
       "      <td>2019.000000</td>\n",
       "      <td>6.305743e+07</td>\n",
       "      <td>1.579222e+08</td>\n",
       "      <td>3.500091e+06</td>\n",
       "      <td>0.469490</td>\n",
       "      <td>19.673264</td>\n",
       "      <td>0.0</td>\n",
       "    </tr>\n",
       "    <tr>\n",
       "      <th>21</th>\n",
       "      <td>22</td>\n",
       "      <td>2019.000000</td>\n",
       "      <td>5.302819e+07</td>\n",
       "      <td>1.414246e+08</td>\n",
       "      <td>3.454343e+06</td>\n",
       "      <td>1.040901</td>\n",
       "      <td>47.810799</td>\n",
       "      <td>0.0</td>\n",
       "    </tr>\n",
       "    <tr>\n",
       "      <th>22</th>\n",
       "      <td>23</td>\n",
       "      <td>2019.000000</td>\n",
       "      <td>5.745248e+07</td>\n",
       "      <td>2.810292e+08</td>\n",
       "      <td>4.512119e+06</td>\n",
       "      <td>0.498510</td>\n",
       "      <td>17.513433</td>\n",
       "      <td>0.0</td>\n",
       "    </tr>\n",
       "    <tr>\n",
       "      <th>23</th>\n",
       "      <td>24</td>\n",
       "      <td>2019.000000</td>\n",
       "      <td>7.015175e+07</td>\n",
       "      <td>2.437255e+08</td>\n",
       "      <td>6.219380e+06</td>\n",
       "      <td>0.326290</td>\n",
       "      <td>12.669219</td>\n",
       "      <td>0.0</td>\n",
       "    </tr>\n",
       "    <tr>\n",
       "      <th>24</th>\n",
       "      <td>25</td>\n",
       "      <td>2019.000000</td>\n",
       "      <td>6.889989e+07</td>\n",
       "      <td>2.541703e+08</td>\n",
       "      <td>2.757590e+06</td>\n",
       "      <td>0.291606</td>\n",
       "      <td>26.341760</td>\n",
       "      <td>0.0</td>\n",
       "    </tr>\n",
       "    <tr>\n",
       "      <th>25</th>\n",
       "      <td>26</td>\n",
       "      <td>2019.000000</td>\n",
       "      <td>1.530802e+07</td>\n",
       "      <td>1.278371e+08</td>\n",
       "      <td>1.935169e+06</td>\n",
       "      <td>0.762377</td>\n",
       "      <td>26.009861</td>\n",
       "      <td>0.0</td>\n",
       "    </tr>\n",
       "    <tr>\n",
       "      <th>26</th>\n",
       "      <td>27</td>\n",
       "      <td>2019.000000</td>\n",
       "      <td>3.142520e+07</td>\n",
       "      <td>3.054895e+08</td>\n",
       "      <td>4.539764e+06</td>\n",
       "      <td>0.325468</td>\n",
       "      <td>12.190767</td>\n",
       "      <td>0.0</td>\n",
       "    </tr>\n",
       "    <tr>\n",
       "      <th>27</th>\n",
       "      <td>28</td>\n",
       "      <td>2019.000000</td>\n",
       "      <td>5.844399e+07</td>\n",
       "      <td>1.867616e+08</td>\n",
       "      <td>4.531133e+06</td>\n",
       "      <td>0.591177</td>\n",
       "      <td>25.472484</td>\n",
       "      <td>0.0</td>\n",
       "    </tr>\n",
       "    <tr>\n",
       "      <th>28</th>\n",
       "      <td>30</td>\n",
       "      <td>2019.000000</td>\n",
       "      <td>6.531968e+07</td>\n",
       "      <td>1.249805e+08</td>\n",
       "      <td>4.170937e+06</td>\n",
       "      <td>0.810434</td>\n",
       "      <td>17.136664</td>\n",
       "      <td>0.0</td>\n",
       "    </tr>\n",
       "    <tr>\n",
       "      <th>29</th>\n",
       "      <td>33</td>\n",
       "      <td>2019.000000</td>\n",
       "      <td>1.055038e+08</td>\n",
       "      <td>6.835697e+08</td>\n",
       "      <td>7.213589e+06</td>\n",
       "      <td>0.561998</td>\n",
       "      <td>18.617154</td>\n",
       "      <td>0.0</td>\n",
       "    </tr>\n",
       "    <tr>\n",
       "      <th>30</th>\n",
       "      <td>34</td>\n",
       "      <td>2018.875000</td>\n",
       "      <td>3.731137e+07</td>\n",
       "      <td>5.112558e+07</td>\n",
       "      <td>1.962988e+06</td>\n",
       "      <td>0.940850</td>\n",
       "      <td>20.289274</td>\n",
       "      <td>0.0</td>\n",
       "    </tr>\n",
       "    <tr>\n",
       "      <th>31</th>\n",
       "      <td>36</td>\n",
       "      <td>2019.000000</td>\n",
       "      <td>6.132929e+07</td>\n",
       "      <td>1.412561e+08</td>\n",
       "      <td>2.219834e+06</td>\n",
       "      <td>0.483678</td>\n",
       "      <td>27.672888</td>\n",
       "      <td>0.0</td>\n",
       "    </tr>\n",
       "    <tr>\n",
       "      <th>32</th>\n",
       "      <td>44</td>\n",
       "      <td>2019.000000</td>\n",
       "      <td>6.075464e+07</td>\n",
       "      <td>4.726343e+08</td>\n",
       "      <td>2.878674e+06</td>\n",
       "      <td>0.213928</td>\n",
       "      <td>21.124413</td>\n",
       "      <td>0.0</td>\n",
       "    </tr>\n",
       "  </tbody>\n",
       "</table>\n",
       "</div>"
      ],
      "text/plain": [
       "    Tot_Mftr         Year    Tot_Spndng  Tot_Dsg_Unts      Tot_Clms  \\\n",
       "0          1  2019.112669  3.301522e+07  3.676089e+06  5.199586e+04   \n",
       "1          2  2019.095569  1.176625e+07  3.866811e+06  4.036576e+04   \n",
       "2          3  2019.076779  3.918819e+06  8.135092e+06  5.993998e+04   \n",
       "3          4  2019.055814  2.566054e+06  3.646651e+07  6.172056e+04   \n",
       "4          5  2019.043614  5.063174e+06  6.952504e+07  8.114496e+04   \n",
       "5          6  2019.066445  4.959821e+06  6.632043e+06  1.520170e+05   \n",
       "6          7  2019.054795  6.585734e+06  2.299212e+07  2.367702e+05   \n",
       "7          8  2019.080153  1.946026e+07  4.677243e+07  6.037263e+05   \n",
       "8          9  2018.986364  1.464189e+07  2.791864e+07  5.225579e+05   \n",
       "9         10  2019.023585  2.016587e+07  3.601650e+07  8.832395e+05   \n",
       "10        11  2019.000000  2.503506e+07  6.328908e+08  5.652789e+05   \n",
       "11        12  2019.059829  2.846364e+07  4.234772e+07  9.415695e+05   \n",
       "12        13  2019.058252  2.278173e+07  7.025757e+07  1.276593e+06   \n",
       "13        14  2019.037037  2.977036e+07  7.747244e+07  1.662867e+06   \n",
       "14        15  2019.022727  2.041125e+07  5.980986e+07  1.260091e+06   \n",
       "15        16  2019.027523  4.030934e+07  5.894798e+07  1.554640e+06   \n",
       "16        17  2019.025000  2.327305e+07  1.000407e+08  1.400744e+06   \n",
       "17        18  2019.000000  2.697548e+07  9.067366e+07  1.644542e+06   \n",
       "18        19  2019.000000  6.720721e+07  1.567645e+08  3.783421e+06   \n",
       "19        20  2019.000000  4.849783e+07  3.429694e+08  5.132836e+06   \n",
       "20        21  2019.000000  6.305743e+07  1.579222e+08  3.500091e+06   \n",
       "21        22  2019.000000  5.302819e+07  1.414246e+08  3.454343e+06   \n",
       "22        23  2019.000000  5.745248e+07  2.810292e+08  4.512119e+06   \n",
       "23        24  2019.000000  7.015175e+07  2.437255e+08  6.219380e+06   \n",
       "24        25  2019.000000  6.889989e+07  2.541703e+08  2.757590e+06   \n",
       "25        26  2019.000000  1.530802e+07  1.278371e+08  1.935169e+06   \n",
       "26        27  2019.000000  3.142520e+07  3.054895e+08  4.539764e+06   \n",
       "27        28  2019.000000  5.844399e+07  1.867616e+08  4.531133e+06   \n",
       "28        30  2019.000000  6.531968e+07  1.249805e+08  4.170937e+06   \n",
       "29        33  2019.000000  1.055038e+08  6.835697e+08  7.213589e+06   \n",
       "30        34  2018.875000  3.731137e+07  5.112558e+07  1.962988e+06   \n",
       "31        36  2019.000000  6.132929e+07  1.412561e+08  2.219834e+06   \n",
       "32        44  2019.000000  6.075464e+07  4.726343e+08  2.878674e+06   \n",
       "\n",
       "    Avg_Spnd_Per_Dsg_Unt_Wghtd  Avg_Spnd_Per_Clm  Outlier_Flag  \n",
       "0                   431.302987       3098.161517           0.0  \n",
       "1                   108.274121        922.328824           0.0  \n",
       "2                    26.694474        325.579292           0.0  \n",
       "3                    16.297166        388.609648           0.0  \n",
       "4                     5.811611        211.720653           0.0  \n",
       "5                    10.779872        358.598233           0.0  \n",
       "6                    15.061554        404.587266           0.0  \n",
       "7                    11.343392        400.289380           0.0  \n",
       "8                     2.235584         93.300273           0.0  \n",
       "9                     7.665514        253.942607           0.0  \n",
       "10                    0.945891         43.244407           0.0  \n",
       "11                    9.062669        293.313624           0.0  \n",
       "12                    0.796684         44.836307           0.0  \n",
       "13                    1.635641         59.916366           0.0  \n",
       "14                    3.673740        253.258978           0.0  \n",
       "15                    4.649316        103.015029           0.0  \n",
       "16                   24.015607         63.541501           0.0  \n",
       "17                    0.957009         72.211624           0.0  \n",
       "18                    0.839317         35.726441           0.0  \n",
       "19                   21.845694        305.756691           0.0  \n",
       "20                    0.469490         19.673264           0.0  \n",
       "21                    1.040901         47.810799           0.0  \n",
       "22                    0.498510         17.513433           0.0  \n",
       "23                    0.326290         12.669219           0.0  \n",
       "24                    0.291606         26.341760           0.0  \n",
       "25                    0.762377         26.009861           0.0  \n",
       "26                    0.325468         12.190767           0.0  \n",
       "27                    0.591177         25.472484           0.0  \n",
       "28                    0.810434         17.136664           0.0  \n",
       "29                    0.561998         18.617154           0.0  \n",
       "30                    0.940850         20.289274           0.0  \n",
       "31                    0.483678         27.672888           0.0  \n",
       "32                    0.213928         21.124413           0.0  "
      ]
     },
     "execution_count": 43,
     "metadata": {},
     "output_type": "execute_result"
    }
   ],
   "source": [
    "med_panel_agg.groupby('Tot_Mftr').agg('mean').reset_index()"
   ]
  },
  {
   "cell_type": "code",
   "execution_count": 44,
   "id": "55ac7433-0c5d-40be-8a2a-501f73c35179",
   "metadata": {
    "tags": []
   },
   "outputs": [
    {
     "data": {
      "text/plain": [
       "Text(0, 0.5, 'Mean Average Spending Per Dosage Unit')"
      ]
     },
     "execution_count": 44,
     "metadata": {},
     "output_type": "execute_result"
    },
    {
     "data": {
      "image/png": "[encoded data removed]",
      "text/plain": [
       "<Figure size 432x288 with 1 Axes>"
      ]
     },
     "metadata": {
      "needs_background": "light"
     },
     "output_type": "display_data"
    }
   ],
   "source": [
    "sns.scatterplot(data = med_panel_agg.groupby('Tot_Mftr').agg('mean').reset_index(), x = 'Tot_Mftr', y = 'Avg_Spnd_Per_Dsg_Unt_Wghtd')\n",
    "plt.ylabel('Mean Average Spending Per Dosage Unit')"
   ]
  },
  {
   "cell_type": "markdown",
   "id": "4d2307a7-1878-46e3-9ae7-48b2a8dd8eaf",
   "metadata": {},
   "source": [
    "The scatterplot shows that the average cost per unit is quite high for drugs with only one manufacturer. As soon as there are two manufacturers, the average cost drastically decreases. The increase from 2 to 3 manufacturers results in another significant decrease, and the decrease resulting from an increase in the number of manufacturers is at best marginal for greater than 3 manufacturers."
   ]
  },
  {
   "cell_type": "code",
   "execution_count": 45,
   "id": "0e205e97-b238-46f0-a345-113701610b09",
   "metadata": {
    "tags": []
   },
   "outputs": [
    {
     "name": "stdout",
     "output_type": "stream",
     "text": [
      "                                OLS Regression Results                                \n",
      "======================================================================================\n",
      "Dep. Variable:     Avg_Spnd_Per_Dsg_Unt_Wghtd   R-squared:                       0.154\n",
      "Model:                                    OLS   Adj. R-squared:                  0.152\n",
      "Method:                         Least Squares   F-statistic:                     301.3\n",
      "Date:                        Wed, 28 Jun 2023   Prob (F-statistic):               0.00\n",
      "Time:                                20:56:19   Log-Likelihood:                -29684.\n",
      "No. Observations:                       12740   AIC:                         5.943e+04\n",
      "Df Residuals:                           12707   BIC:                         5.968e+04\n",
      "Df Model:                                  32                                         \n",
      "Covariance Type:                          HC3                                         \n",
      "==============================================================================\n",
      "                 coef    std err          z      P>|z|      [0.025      0.975]\n",
      "------------------------------------------------------------------------------\n",
      "const          2.4448      0.031     79.020      0.000       2.384       2.505\n",
      "2             -0.8292      0.081    -10.237      0.000      -0.988      -0.670\n",
      "3             -1.6850      0.088    -19.229      0.000      -1.857      -1.513\n",
      "4             -2.1527      0.103    -20.930      0.000      -2.354      -1.951\n",
      "5             -2.2859      0.104    -21.938      0.000      -2.490      -2.082\n",
      "6             -2.1818      0.105    -20.854      0.000      -2.387      -1.977\n",
      "7             -2.3112      0.113    -20.440      0.000      -2.533      -2.090\n",
      "8             -2.0034      0.125    -16.029      0.000      -2.248      -1.758\n",
      "9             -2.4608      0.082    -30.152      0.000      -2.621      -2.301\n",
      "10            -2.0591      0.126    -16.382      0.000      -2.305      -1.813\n",
      "11            -2.9579      0.100    -29.680      0.000      -3.153      -2.763\n",
      "12            -2.1888      0.179    -12.232      0.000      -2.540      -1.838\n",
      "13            -3.1748      0.097    -32.669      0.000      -3.365      -2.984\n",
      "14            -2.8950      0.126    -22.986      0.000      -3.142      -2.648\n",
      "15            -2.7755      0.154    -18.017      0.000      -3.077      -2.474\n",
      "16            -2.3172      0.146    -15.833      0.000      -2.604      -2.030\n",
      "17            -2.9942      0.194    -15.453      0.000      -3.374      -2.614\n",
      "18            -3.2224      0.208    -15.509      0.000      -3.630      -2.815\n",
      "19            -3.3421      0.134    -24.855      0.000      -3.606      -3.079\n",
      "20            -2.7634      0.595     -4.645      0.000      -3.929      -1.598\n",
      "21            -3.5755      0.119    -30.132      0.000      -3.808      -3.343\n",
      "22            -2.9621      0.241    -12.304      0.000      -3.434      -2.490\n",
      "23            -3.2368      0.119    -27.150      0.000      -3.470      -3.003\n",
      "24            -3.7055      0.148    -25.092      0.000      -3.995      -3.416\n",
      "25            -3.7119      0.148    -25.164      0.000      -4.001      -3.423\n",
      "26            -3.4490      0.475     -7.260      0.000      -4.380      -2.518\n",
      "27            -3.8549      0.237    -16.283      0.000      -4.319      -3.391\n",
      "28            -3.2400      0.139    -23.385      0.000      -3.512      -2.968\n",
      "30            -2.9221      0.212    -13.788      0.000      -3.337      -2.507\n",
      "33            -3.4377      0.337    -10.212      0.000      -4.098      -2.778\n",
      "34            -2.5368      0.106    -23.904      0.000      -2.745      -2.329\n",
      "36            -3.1775      0.070    -45.408      0.000      -3.315      -3.040\n",
      "44            -3.9886      0.045    -88.774      0.000      -4.077      -3.901\n",
      "==============================================================================\n",
      "Omnibus:                      237.783   Durbin-Watson:                   0.422\n",
      "Prob(Omnibus):                  0.000   Jarque-Bera (JB):              262.487\n",
      "Skew:                           0.307   Prob(JB):                     1.00e-57\n",
      "Kurtosis:                       3.344   Cond. No.                         50.9\n",
      "==============================================================================\n",
      "\n",
      "Notes:\n",
      "[1] Standard Errors are heteroscedasticity robust (HC3)\n"
     ]
    }
   ],
   "source": [
    "#Naive Regression on average cost per dosage\n",
    "avg_cost = np.log(med_panel_agg['Avg_Spnd_Per_Dsg_Unt_Wghtd'])\n",
    "num_manuf = manuf_dummies\n",
    "num_manuf = sm.add_constant(num_manuf)\n",
    "cost_on_manuf = sm.OLS(avg_cost, num_manuf)\n",
    "#Heteroskedasticity robust SE\n",
    "r_costdsg_on_manuf = cost_on_manuf.fit(cov_type='HC3')\n",
    "print(r_costdsg_on_manuf.summary())"
   ]
  },
  {
   "cell_type": "code",
   "execution_count": 46,
   "id": "2413aed2-d6d9-4829-b6ad-92be79b0655d",
   "metadata": {
    "tags": []
   },
   "outputs": [
    {
     "data": {
      "text/plain": [
       "<AxesSubplot:xlabel='Tot_Mftr', ylabel='Avg_Spnd_Per_Clm'>"
      ]
     },
     "execution_count": 46,
     "metadata": {},
     "output_type": "execute_result"
    },
    {
     "data": {
      "image/png": "[encoded data removed]",
      "text/plain": [
       "<Figure size 432x288 with 1 Axes>"
      ]
     },
     "metadata": {
      "needs_background": "light"
     },
     "output_type": "display_data"
    }
   ],
   "source": [
    "sns.scatterplot(x = med_panel_agg['Tot_Mftr'] , y = np.log(med_panel_agg['Avg_Spnd_Per_Clm']))"
   ]
  },
  {
   "cell_type": "code",
   "execution_count": 47,
   "id": "5b3703f8-a503-4b81-b9e9-dace050fd7d5",
   "metadata": {
    "tags": []
   },
   "outputs": [
    {
     "name": "stdout",
     "output_type": "stream",
     "text": [
      "                            OLS Regression Results                            \n",
      "==============================================================================\n",
      "Dep. Variable:       Avg_Spnd_Per_Clm   R-squared:                       0.195\n",
      "Model:                            OLS   Adj. R-squared:                  0.193\n",
      "Method:                 Least Squares   F-statistic:                     302.1\n",
      "Date:                Wed, 28 Jun 2023   Prob (F-statistic):               0.00\n",
      "Time:                        20:56:19   Log-Likelihood:                -26363.\n",
      "No. Observations:               12740   AIC:                         5.279e+04\n",
      "Df Residuals:                   12707   BIC:                         5.304e+04\n",
      "Df Model:                          32                                         \n",
      "Covariance Type:                  HC3                                         \n",
      "==============================================================================\n",
      "                 coef    std err          z      P>|z|      [0.025      0.975]\n",
      "------------------------------------------------------------------------------\n",
      "const          5.9684      0.024    249.627      0.000       5.922       6.015\n",
      "2             -0.9654      0.057    -16.820      0.000      -1.078      -0.853\n",
      "3             -1.5238      0.061    -25.039      0.000      -1.643      -1.405\n",
      "4             -1.4909      0.070    -21.202      0.000      -1.629      -1.353\n",
      "5             -1.7509      0.079    -22.302      0.000      -1.905      -1.597\n",
      "6             -1.9495      0.093    -20.910      0.000      -2.132      -1.767\n",
      "7             -1.9857      0.097    -20.525      0.000      -2.175      -1.796\n",
      "8             -1.6915      0.101    -16.825      0.000      -1.888      -1.494\n",
      "9             -2.2096      0.072    -30.869      0.000      -2.350      -2.069\n",
      "10            -1.7397      0.115    -15.121      0.000      -1.965      -1.514\n",
      "11            -2.5863      0.092    -28.050      0.000      -2.767      -2.406\n",
      "12            -2.3178      0.160    -14.464      0.000      -2.632      -2.004\n",
      "13            -2.8151      0.106    -26.524      0.000      -3.023      -2.607\n",
      "14            -2.7202      0.114    -23.947      0.000      -2.943      -2.498\n",
      "15            -2.5536      0.173    -14.728      0.000      -2.893      -2.214\n",
      "16            -2.5262      0.125    -20.192      0.000      -2.771      -2.281\n",
      "17            -2.7637      0.144    -19.252      0.000      -3.045      -2.482\n",
      "18            -2.7836      0.220    -12.666      0.000      -3.214      -2.353\n",
      "19            -3.1376      0.138    -22.659      0.000      -3.409      -2.866\n",
      "20            -2.5227      0.498     -5.065      0.000      -3.499      -1.547\n",
      "21            -3.2996      0.120    -27.391      0.000      -3.536      -3.063\n",
      "22            -2.6991      0.258    -10.481      0.000      -3.204      -2.194\n",
      "23            -3.2301      0.127    -25.429      0.000      -3.479      -2.981\n",
      "24            -3.4942      0.099    -35.157      0.000      -3.689      -3.299\n",
      "25            -2.7308      0.142    -19.201      0.000      -3.010      -2.452\n",
      "26            -3.2187      0.373     -8.639      0.000      -3.949      -2.488\n",
      "27            -3.6866      0.179    -20.627      0.000      -4.037      -3.336\n",
      "28            -3.1723      0.169    -18.799      0.000      -3.503      -2.842\n",
      "30            -3.1777      0.092    -34.683      0.000      -3.357      -2.998\n",
      "33            -3.0796      0.097    -31.905      0.000      -3.269      -2.890\n",
      "34            -2.9900      0.100    -29.825      0.000      -3.187      -2.794\n",
      "36            -2.6539      0.065    -40.840      0.000      -2.781      -2.527\n",
      "44            -2.9193      0.037    -78.825      0.000      -2.992      -2.847\n",
      "==============================================================================\n",
      "Omnibus:                      140.384   Durbin-Watson:                   0.437\n",
      "Prob(Omnibus):                  0.000   Jarque-Bera (JB):              144.581\n",
      "Skew:                           0.258   Prob(JB):                     4.02e-32\n",
      "Kurtosis:                       2.926   Cond. No.                         50.9\n",
      "==============================================================================\n",
      "\n",
      "Notes:\n",
      "[1] Standard Errors are heteroscedasticity robust (HC3)\n"
     ]
    }
   ],
   "source": [
    "#Naive Regression on average cost per claim\n",
    "avg_cost_clm = np.log(med_panel_agg['Avg_Spnd_Per_Clm'])\n",
    "num_manuf = manuf_dummies\n",
    "num_manuf = sm.add_constant(num_manuf)\n",
    "cost_clm_on_manuf = sm.OLS(avg_cost_clm, num_manuf)\n",
    "#Heteroskedasticity robust SE\n",
    "results = cost_clm_on_manuf.fit(cov_type='HC3')\n",
    "print(results.summary())"
   ]
  },
  {
   "cell_type": "markdown",
   "id": "542a915c-6602-4493-b8c0-fd60633a9440",
   "metadata": {},
   "source": [
    "We now try controlling for time fixed effects by creating another set of indicators for time, where we omit the indicator for 2017 to avoid multicollinearity."
   ]
  },
  {
   "cell_type": "code",
   "execution_count": 48,
   "id": "f414343b-bce1-4236-baf2-b111b03386b4",
   "metadata": {
    "tags": []
   },
   "outputs": [],
   "source": [
    "time_dummies = pd.get_dummies(med_panel_agg['Year'])\n",
    "time_dummies = time_dummies.drop(columns = 2017)"
   ]
  },
  {
   "cell_type": "code",
   "execution_count": 49,
   "id": "4b700f49-0b48-4aef-8baf-aa9502d29253",
   "metadata": {
    "tags": []
   },
   "outputs": [],
   "source": [
    "all_dummies = time_dummies.join(manuf_dummies)"
   ]
  },
  {
   "cell_type": "code",
   "execution_count": 50,
   "id": "b320b90e-230d-46f1-9b54-f57016d2e1dd",
   "metadata": {
    "tags": []
   },
   "outputs": [
    {
     "data": {
      "text/plain": [
       "count    12740.000000\n",
       "mean       283.403852\n",
       "std       1699.071105\n",
       "min          0.000329\n",
       "25%          0.692086\n",
       "50%          4.447220\n",
       "75%         27.832597\n",
       "max      39359.911863\n",
       "Name: Avg_Spnd_Per_Dsg_Unt_Wghtd, dtype: float64"
      ]
     },
     "execution_count": 50,
     "metadata": {},
     "output_type": "execute_result"
    }
   ],
   "source": [
    "med_panel_agg[med_panel_agg['Avg_Spnd_Per_Dsg_Unt_Wghtd'] > 0]['Avg_Spnd_Per_Dsg_Unt_Wghtd'].describe()"
   ]
  },
  {
   "cell_type": "code",
   "execution_count": 51,
   "id": "9e83a5ba-a587-441e-ab15-ac26b018bd6f",
   "metadata": {
    "tags": []
   },
   "outputs": [
    {
     "name": "stdout",
     "output_type": "stream",
     "text": [
      "                                OLS Regression Results                                \n",
      "======================================================================================\n",
      "Dep. Variable:     Avg_Spnd_Per_Dsg_Unt_Wghtd   R-squared:                       0.155\n",
      "Model:                                    OLS   Adj. R-squared:                  0.153\n",
      "Method:                         Least Squares   F-statistic:                     174.7\n",
      "Date:                        Wed, 28 Jun 2023   Prob (F-statistic):               0.00\n",
      "Time:                                20:56:19   Log-Likelihood:                -29674.\n",
      "No. Observations:                       12740   AIC:                         5.942e+04\n",
      "Df Residuals:                           12703   BIC:                         5.970e+04\n",
      "Df Model:                                  36                                         \n",
      "Covariance Type:                          HC3                                         \n",
      "==============================================================================\n",
      "                 coef    std err          z      P>|z|      [0.025      0.975]\n",
      "------------------------------------------------------------------------------\n",
      "const          2.3421      0.053     43.804      0.000       2.237       2.447\n",
      "2018          -0.0407      0.070     -0.582      0.560      -0.178       0.096\n",
      "2019           0.1156      0.069      1.668      0.095      -0.020       0.252\n",
      "2020           0.1855      0.069      2.673      0.008       0.050       0.321\n",
      "2021           0.2123      0.069      3.071      0.002       0.077       0.348\n",
      "2             -0.8281      0.081    -10.232      0.000      -0.987      -0.670\n",
      "3             -1.6827      0.088    -19.197      0.000      -1.854      -1.511\n",
      "4             -2.1491      0.103    -20.908      0.000      -2.351      -1.948\n",
      "5             -2.2805      0.104    -21.862      0.000      -2.485      -2.076\n",
      "6             -2.1786      0.105    -20.826      0.000      -2.384      -1.974\n",
      "7             -2.3069      0.113    -20.397      0.000      -2.529      -2.085\n",
      "8             -2.0006      0.125    -16.000      0.000      -2.246      -1.756\n",
      "9             -2.4515      0.082    -29.732      0.000      -2.613      -2.290\n",
      "10            -2.0515      0.126    -16.252      0.000      -2.299      -1.804\n",
      "11            -2.9497      0.101    -29.137      0.000      -3.148      -2.751\n",
      "12            -2.1852      0.179    -12.200      0.000      -2.536      -1.834\n",
      "13            -3.1706      0.098    -32.351      0.000      -3.363      -2.979\n",
      "14            -2.8892      0.127    -22.781      0.000      -3.138      -2.641\n",
      "15            -2.7689      0.155    -17.897      0.000      -3.072      -2.466\n",
      "16            -2.3113      0.147    -15.760      0.000      -2.599      -2.024\n",
      "17            -2.9875      0.196    -15.254      0.000      -3.371      -2.604\n",
      "18            -3.2142      0.209    -15.409      0.000      -3.623      -2.805\n",
      "19            -3.3339      0.137    -24.415      0.000      -3.602      -3.066\n",
      "20            -2.7563      0.597     -4.619      0.000      -3.926      -1.587\n",
      "21            -3.5674      0.123    -29.085      0.000      -3.808      -3.327\n",
      "22            -2.9539      0.243    -12.152      0.000      -3.430      -2.478\n",
      "23            -3.2287      0.127    -25.424      0.000      -3.478      -2.980\n",
      "24            -3.6974      0.153    -24.174      0.000      -3.997      -3.398\n",
      "25            -3.7038      0.196    -18.940      0.000      -4.087      -3.320\n",
      "26            -3.4408      0.477     -7.214      0.000      -4.376      -2.506\n",
      "27            -3.8468      0.236    -16.301      0.000      -4.309      -3.384\n",
      "28            -3.2319      0.143    -22.655      0.000      -3.511      -2.952\n",
      "30            -2.9139      0.215    -13.574      0.000      -3.335      -2.493\n",
      "33            -3.4295      0.334    -10.261      0.000      -4.085      -2.774\n",
      "34            -2.5146      0.129    -19.469      0.000      -2.768      -2.261\n",
      "36            -3.1693      0.121    -26.271      0.000      -3.406      -2.933\n",
      "44            -3.9805      0.084    -47.392      0.000      -4.145      -3.816\n",
      "==============================================================================\n",
      "Omnibus:                      231.366   Durbin-Watson:                   0.424\n",
      "Prob(Omnibus):                  0.000   Jarque-Bera (JB):              255.287\n",
      "Skew:                           0.302   Prob(JB):                     3.67e-56\n",
      "Kurtosis:                       3.342   Cond. No.                         55.1\n",
      "==============================================================================\n",
      "\n",
      "Notes:\n",
      "[1] Standard Errors are heteroscedasticity robust (HC3)\n"
     ]
    }
   ],
   "source": [
    "#Regression including time-fixed effects\n",
    "avg_cost = np.log(med_panel_agg['Avg_Spnd_Per_Dsg_Unt_Wghtd'] )\n",
    "dummies = sm.add_constant(all_dummies)\n",
    "cost_on_manuf_tf = sm.OLS(avg_cost, dummies)\n",
    "#Heteroskedasticity robust SE\n",
    "r_costdsg_on_manuf_tf = cost_on_manuf_tf.fit(cov_type='HC3')\n",
    "print(r_costdsg_on_manuf_tf.summary())"
   ]
  },
  {
   "cell_type": "code",
   "execution_count": 52,
   "id": "0d104761-02ee-489e-b2eb-b3019d7c06ed",
   "metadata": {
    "tags": []
   },
   "outputs": [
    {
     "name": "stdout",
     "output_type": "stream",
     "text": [
      "                            OLS Regression Results                            \n",
      "==============================================================================\n",
      "Dep. Variable:       Avg_Spnd_Per_Clm   R-squared:                       0.197\n",
      "Model:                            OLS   Adj. R-squared:                  0.194\n",
      "Method:                 Least Squares   F-statistic:                     207.2\n",
      "Date:                Wed, 28 Jun 2023   Prob (F-statistic):               0.00\n",
      "Time:                        20:56:19   Log-Likelihood:                -26349.\n",
      "No. Observations:               12740   AIC:                         5.277e+04\n",
      "Df Residuals:                   12703   BIC:                         5.305e+04\n",
      "Df Model:                          36                                         \n",
      "Covariance Type:                  HC3                                         \n",
      "==============================================================================\n",
      "                 coef    std err          z      P>|z|      [0.025      0.975]\n",
      "------------------------------------------------------------------------------\n",
      "const          5.8953      0.041    142.340      0.000       5.814       5.976\n",
      "2018          -0.0547      0.054     -1.016      0.310      -0.160       0.051\n",
      "2019           0.0586      0.054      1.092      0.275      -0.047       0.164\n",
      "2020           0.1337      0.053      2.505      0.012       0.029       0.238\n",
      "2021           0.1936      0.053      3.626      0.000       0.089       0.298\n",
      "2             -0.9646      0.057    -16.826      0.000      -1.077      -0.852\n",
      "3             -1.5219      0.061    -25.000      0.000      -1.641      -1.403\n",
      "4             -1.4878      0.070    -21.189      0.000      -1.625      -1.350\n",
      "5             -1.7462      0.079    -22.212      0.000      -1.900      -1.592\n",
      "6             -1.9469      0.093    -20.928      0.000      -2.129      -1.765\n",
      "7             -1.9823      0.097    -20.501      0.000      -2.172      -1.793\n",
      "8             -1.6892      0.101    -16.779      0.000      -1.887      -1.492\n",
      "9             -2.2016      0.072    -30.496      0.000      -2.343      -2.060\n",
      "10            -1.7332      0.115    -15.024      0.000      -1.959      -1.507\n",
      "11            -2.5794      0.093    -27.626      0.000      -2.762      -2.396\n",
      "12            -2.3154      0.160    -14.466      0.000      -2.629      -2.002\n",
      "13            -2.8113      0.107    -26.388      0.000      -3.020      -2.602\n",
      "14            -2.7156      0.114    -23.737      0.000      -2.940      -2.491\n",
      "15            -2.5489      0.174    -14.672      0.000      -2.889      -2.208\n",
      "16            -2.5210      0.125    -20.106      0.000      -2.767      -2.275\n",
      "17            -2.7576      0.145    -19.024      0.000      -3.042      -2.473\n",
      "18            -2.7767      0.219    -12.658      0.000      -3.207      -2.347\n",
      "19            -3.1307      0.140    -22.396      0.000      -3.405      -2.857\n",
      "20            -2.5155      0.500     -5.031      0.000      -3.495      -1.535\n",
      "21            -3.2927      0.123    -26.797      0.000      -3.534      -3.052\n",
      "22            -2.6922      0.259    -10.380      0.000      -3.201      -2.184\n",
      "23            -3.2233      0.136    -23.680      0.000      -3.490      -2.956\n",
      "24            -3.4873      0.103    -33.815      0.000      -3.689      -3.285\n",
      "25            -2.7240      0.181    -15.017      0.000      -3.079      -2.368\n",
      "26            -3.2119      0.377     -8.528      0.000      -3.950      -2.474\n",
      "27            -3.6797      0.178    -20.650      0.000      -4.029      -3.330\n",
      "28            -3.1654      0.172    -18.412      0.000      -3.502      -2.828\n",
      "30            -3.1708      0.103    -30.856      0.000      -3.372      -2.969\n",
      "33            -3.0728      0.104    -29.481      0.000      -3.277      -2.868\n",
      "34            -2.9757      0.125    -23.880      0.000      -3.220      -2.731\n",
      "36            -2.6470      0.109    -24.200      0.000      -2.861      -2.433\n",
      "44            -2.9124      0.067    -43.289      0.000      -3.044      -2.781\n",
      "==============================================================================\n",
      "Omnibus:                      134.869   Durbin-Watson:                   0.439\n",
      "Prob(Omnibus):                  0.000   Jarque-Bera (JB):              138.730\n",
      "Skew:                           0.253   Prob(JB):                     7.50e-31\n",
      "Kurtosis:                       2.927   Cond. No.                         55.1\n",
      "==============================================================================\n",
      "\n",
      "Notes:\n",
      "[1] Standard Errors are heteroscedasticity robust (HC3)\n"
     ]
    }
   ],
   "source": [
    "#Regression including time-fixed effects\n",
    "avg_cost_clm_tf = np.log(med_panel_agg['Avg_Spnd_Per_Clm'])\n",
    "cost_clm_on_manuf_tf = sm.OLS(avg_cost_clm_tf, dummies)\n",
    "#Heteroskedasticity robust SE\n",
    "results = cost_clm_on_manuf_tf.fit(cov_type='HC3')\n",
    "print(results.summary())"
   ]
  },
  {
   "cell_type": "code",
   "execution_count": 53,
   "id": "6378bfb4-76cd-4ec8-a737-f7adce523549",
   "metadata": {
    "tags": []
   },
   "outputs": [
    {
     "name": "stdout",
     "output_type": "stream",
     "text": [
      "                            OLS Regression Results                            \n",
      "==============================================================================\n",
      "Dep. Variable:             Tot_Spndng   R-squared:                       0.101\n",
      "Model:                            OLS   Adj. R-squared:                  0.099\n",
      "Method:                 Least Squares   F-statistic:                     680.7\n",
      "Date:                Wed, 28 Jun 2023   Prob (F-statistic):               0.00\n",
      "Time:                        20:56:19   Log-Likelihood:                -29362.\n",
      "No. Observations:               12740   AIC:                         5.880e+04\n",
      "Df Residuals:                   12703   BIC:                         5.907e+04\n",
      "Df Model:                          36                                         \n",
      "Covariance Type:                  HC3                                         \n",
      "==============================================================================\n",
      "                 coef    std err          z      P>|z|      [0.025      0.975]\n",
      "------------------------------------------------------------------------------\n",
      "const         14.4114      0.054    264.671      0.000      14.305      14.518\n",
      "2018          -0.0960      0.070     -1.379      0.168      -0.232       0.040\n",
      "2019          -0.0714      0.069     -1.041      0.298      -0.206       0.063\n",
      "2020          -0.0873      0.068     -1.279      0.201      -0.221       0.046\n",
      "2021           0.0080      0.068      0.118      0.906      -0.126       0.142\n",
      "2             -0.7763      0.077    -10.143      0.000      -0.926      -0.626\n",
      "3             -0.5105      0.081     -6.331      0.000      -0.669      -0.352\n",
      "4             -0.4626      0.079     -5.834      0.000      -0.618      -0.307\n",
      "5              0.0681      0.085      0.803      0.422      -0.098       0.234\n",
      "6              0.3263      0.076      4.266      0.000       0.176       0.476\n",
      "7              0.5242      0.081      6.474      0.000       0.366       0.683\n",
      "8              1.1288      0.100     11.264      0.000       0.932       1.325\n",
      "9              1.3468      0.098     13.787      0.000       1.155       1.538\n",
      "10             1.6233      0.098     16.548      0.000       1.431       1.816\n",
      "11             1.7033      0.115     14.869      0.000       1.479       1.928\n",
      "12             2.1806      0.115     18.905      0.000       1.955       2.407\n",
      "13             2.1927      0.105     20.848      0.000       1.987       2.399\n",
      "14             2.4356      0.091     26.703      0.000       2.257       2.614\n",
      "15             2.1700      0.094     23.026      0.000       1.985       2.355\n",
      "16             2.4064      0.118     20.470      0.000       2.176       2.637\n",
      "17             2.0420      0.140     14.564      0.000       1.767       2.317\n",
      "18             2.4453      0.150     16.316      0.000       2.152       2.739\n",
      "19             3.0903      0.116     26.591      0.000       2.863       3.318\n",
      "20             3.1603      0.146     21.698      0.000       2.875       3.446\n",
      "21             3.3024      0.117     28.344      0.000       3.074       3.531\n",
      "22             3.2860      0.120     27.432      0.000       3.051       3.521\n",
      "23             3.1924      0.231     13.829      0.000       2.740       3.645\n",
      "24             3.3638      0.261     12.875      0.000       2.852       3.876\n",
      "25             3.6794      0.060     60.948      0.000       3.561       3.798\n",
      "26             2.1084      0.144     14.657      0.000       1.826       2.390\n",
      "27             2.7516      0.155     17.722      0.000       2.447       3.056\n",
      "28             3.4407      0.089     38.488      0.000       3.265       3.616\n",
      "30             3.5923      0.085     42.181      0.000       3.425       3.759\n",
      "33             3.6746      0.355     10.351      0.000       2.979       4.370\n",
      "34             3.0457      0.078     39.082      0.000       2.893       3.198\n",
      "36             3.5652      0.065     54.813      0.000       3.438       3.693\n",
      "44             3.5594      0.033    107.535      0.000       3.495       3.624\n",
      "==============================================================================\n",
      "Omnibus:                        0.053   Durbin-Watson:                   0.501\n",
      "Prob(Omnibus):                  0.974   Jarque-Bera (JB):                0.062\n",
      "Skew:                          -0.004   Prob(JB):                        0.970\n",
      "Kurtosis:                       2.993   Cond. No.                         55.1\n",
      "==============================================================================\n",
      "\n",
      "Notes:\n",
      "[1] Standard Errors are heteroscedasticity robust (HC3)\n"
     ]
    }
   ],
   "source": [
    "#Regression on manufacturers, time fixed effects\n",
    "tot_cost_tf = np.log(med_panel_agg['Tot_Spndng'])\n",
    "tot_cost_on_manuf_tf = sm.OLS(tot_cost_tf, dummies)\n",
    "#Heteroskedasticity robust SE\n",
    "results = tot_cost_on_manuf_tf.fit(cov_type='HC3')\n",
    "print(results.summary())"
   ]
  },
  {
   "cell_type": "markdown",
   "id": "e96f69e4-fcdf-48d3-96d3-7063f24f86cf",
   "metadata": {},
   "source": [
    "Interestingly, the coefficients are positive, indicating that an increase in total manufacturers results in an increase in total spending. However, this does not make sense, so this suggests a case of omitted variable bias. It could be the case that drugs with a higher number of manufacturers also have a higher number of people using that drug, which would also increase total spending. We account for this by including the total number of claims:"
   ]
  },
  {
   "cell_type": "code",
   "execution_count": 54,
   "id": "b7973fe0-c47a-4b84-bac5-8d2999af013f",
   "metadata": {
    "tags": []
   },
   "outputs": [
    {
     "name": "stdout",
     "output_type": "stream",
     "text": [
      "                            OLS Regression Results                            \n",
      "==============================================================================\n",
      "Dep. Variable:             Tot_Spndng   R-squared:                       0.471\n",
      "Model:                            OLS   Adj. R-squared:                  0.469\n",
      "Method:                 Least Squares   F-statistic:                     644.3\n",
      "Date:                Wed, 28 Jun 2023   Prob (F-statistic):               0.00\n",
      "Time:                        20:56:20   Log-Likelihood:                -25988.\n",
      "No. Observations:               12740   AIC:                         5.205e+04\n",
      "Df Residuals:                   12702   BIC:                         5.234e+04\n",
      "Df Model:                          37                                         \n",
      "Covariance Type:                  HC3                                         \n",
      "==============================================================================\n",
      "                 coef    std err          z      P>|z|      [0.025      0.975]\n",
      "------------------------------------------------------------------------------\n",
      "const          7.8042      0.085     92.146      0.000       7.638       7.970\n",
      "2018          -0.0640      0.052     -1.223      0.221      -0.167       0.039\n",
      "2019           0.0294      0.052      0.565      0.572      -0.073       0.132\n",
      "2020           0.0841      0.052      1.621      0.105      -0.018       0.186\n",
      "2021           0.1520      0.052      2.930      0.003       0.050       0.254\n",
      "2             -0.9224      0.056    -16.358      0.000      -1.033      -0.812\n",
      "3             -1.2952      0.057    -22.645      0.000      -1.407      -1.183\n",
      "4             -1.2580      0.064    -19.742      0.000      -1.383      -1.133\n",
      "5             -1.3395      0.072    -18.514      0.000      -1.481      -1.198\n",
      "6             -1.4373      0.082    -17.427      0.000      -1.599      -1.276\n",
      "7             -1.4205      0.085    -16.722      0.000      -1.587      -1.254\n",
      "8             -1.0575      0.088    -12.030      0.000      -1.230      -0.885\n",
      "9             -1.4062      0.069    -20.391      0.000      -1.541      -1.271\n",
      "10            -0.9809      0.098    -10.060      0.000      -1.172      -0.790\n",
      "11            -1.6195      0.094    -17.239      0.000      -1.804      -1.435\n",
      "12            -1.3076      0.143     -9.123      0.000      -1.589      -1.027\n",
      "13            -1.6897      0.099    -17.023      0.000      -1.884      -1.495\n",
      "14            -1.5610      0.102    -15.376      0.000      -1.760      -1.362\n",
      "15            -1.4912      0.147    -10.173      0.000      -1.778      -1.204\n",
      "16            -1.4165      0.116    -12.237      0.000      -1.643      -1.190\n",
      "17            -1.6818      0.126    -13.362      0.000      -1.928      -1.435\n",
      "18            -1.6062      0.183     -8.782      0.000      -1.965      -1.248\n",
      "19            -1.7363      0.130    -13.379      0.000      -1.991      -1.482\n",
      "20            -1.2433      0.379     -3.284      0.001      -1.985      -0.501\n",
      "21            -1.8144      0.129    -14.047      0.000      -2.068      -1.561\n",
      "22            -1.3522      0.214     -6.330      0.000      -1.771      -0.934\n",
      "23            -1.7852      0.101    -17.592      0.000      -1.984      -1.586\n",
      "24            -1.9516      0.123    -15.856      0.000      -2.193      -1.710\n",
      "25            -1.2887      0.154     -8.373      0.000      -1.590      -0.987\n",
      "26            -2.0193      0.274     -7.366      0.000      -2.557      -1.482\n",
      "27            -2.2381      0.124    -18.022      0.000      -2.482      -1.995\n",
      "28            -1.6847      0.145    -11.616      0.000      -1.969      -1.400\n",
      "30            -1.6549      0.104    -15.945      0.000      -1.858      -1.451\n",
      "33            -1.5604      0.073    -21.391      0.000      -1.703      -1.417\n",
      "34            -1.6260      0.110    -14.751      0.000      -1.842      -1.410\n",
      "36            -1.2545      0.110    -11.451      0.000      -1.469      -1.040\n",
      "44            -1.4617      0.075    -19.574      0.000      -1.608      -1.315\n",
      "Tot_Clms       0.7759      0.008     92.352      0.000       0.759       0.792\n",
      "==============================================================================\n",
      "Omnibus:                       57.516   Durbin-Watson:                   0.441\n",
      "Prob(Omnibus):                  0.000   Jarque-Bera (JB):               56.298\n",
      "Skew:                           0.146   Prob(JB):                     5.96e-13\n",
      "Kurtosis:                       2.855   Cond. No.                         491.\n",
      "==============================================================================\n",
      "\n",
      "Notes:\n",
      "[1] Standard Errors are heteroscedasticity robust (HC3)\n"
     ]
    }
   ],
   "source": [
    "#Regression on manufacturers, time fixed effects\n",
    "tot_cost_tf = np.log(med_panel_agg['Tot_Spndng'])\n",
    "dummies_w_claims = dummies.join(np.log(med_panel_agg['Tot_Clms']))\n",
    "tot_cost_on_manuf_tf = sm.OLS(tot_cost_tf, dummies_w_claims)\n",
    "#Heteroskedasticity robust SE\n",
    "results = tot_cost_on_manuf_tf.fit(cov_type='HC3')\n",
    "print(results.summary())"
   ]
  },
  {
   "cell_type": "markdown",
   "id": "40c1619e-e045-44f4-8546-7217ece504ec",
   "metadata": {},
   "source": [
    "## Regressions (don't treat manufacturers as categorical)"
   ]
  },
  {
   "cell_type": "markdown",
   "id": "0a9098fc-f0b9-42fc-8aa8-97cc6cdc7e33",
   "metadata": {},
   "source": [
    "## Naive Regressions"
   ]
  },
  {
   "cell_type": "code",
   "execution_count": 55,
   "id": "a06c348a-32f5-40be-9ea2-7138b46e6aea",
   "metadata": {
    "tags": []
   },
   "outputs": [
    {
     "name": "stdout",
     "output_type": "stream",
     "text": [
      "                                OLS Regression Results                                \n",
      "======================================================================================\n",
      "Dep. Variable:     Avg_Spnd_Per_Dsg_Unt_Wghtd   R-squared:                       0.109\n",
      "Model:                                    OLS   Adj. R-squared:                  0.108\n",
      "Method:                         Least Squares   F-statistic:                     2131.\n",
      "Date:                        Wed, 28 Jun 2023   Prob (F-statistic):               0.00\n",
      "Time:                                20:56:20   Log-Likelihood:                -30015.\n",
      "No. Observations:                       12740   AIC:                         6.003e+04\n",
      "Df Residuals:                           12738   BIC:                         6.005e+04\n",
      "Df Model:                                   1                                         \n",
      "Covariance Type:                          HC3                                         \n",
      "==============================================================================\n",
      "                 coef    std err          z      P>|z|      [0.025      0.975]\n",
      "------------------------------------------------------------------------------\n",
      "const          2.3321      0.029     80.056      0.000       2.275       2.389\n",
      "Tot_Mftr      -0.1860      0.004    -46.158      0.000      -0.194      -0.178\n",
      "==============================================================================\n",
      "Omnibus:                      345.391   Durbin-Watson:                   0.406\n",
      "Prob(Omnibus):                  0.000   Jarque-Bera (JB):              377.027\n",
      "Skew:                           0.399   Prob(JB):                     1.35e-82\n",
      "Kurtosis:                       3.270   Cond. No.                         7.19\n",
      "==============================================================================\n",
      "\n",
      "Notes:\n",
      "[1] Standard Errors are heteroscedasticity robust (HC3)\n"
     ]
    }
   ],
   "source": [
    "#Naive Regression\n",
    "avg_cost = np.log(med_panel_agg['Avg_Spnd_Per_Dsg_Unt_Wghtd'])\n",
    "num_manuf_ncat = med_panel_agg['Tot_Mftr']\n",
    "num_manuf_ncat = sm.add_constant(num_manuf_ncat)\n",
    "cost_on_manuf_ncat = sm.OLS(avg_cost, num_manuf_ncat)\n",
    "#Heteroskedasticity robust SE\n",
    "r_costdsg_on_manuf_ncat = cost_on_manuf_ncat.fit(cov_type='HC3')\n",
    "print(r_costdsg_on_manuf_ncat.summary())"
   ]
  },
  {
   "cell_type": "code",
   "execution_count": 56,
   "id": "f619a3c6-4c26-4945-8e76-b41fcdcb8469",
   "metadata": {
    "tags": []
   },
   "outputs": [],
   "source": [
    "#Generates LaTeX table code for regression table\n",
    "avg_cost_regress = Stargazer([r_costdsg_on_manuf_ncat])\n",
    "#print(avg_cost_regress.render_latex())"
   ]
  },
  {
   "cell_type": "code",
   "execution_count": 57,
   "id": "b229f708-ea66-45f8-84ab-e5a2a690af18",
   "metadata": {
    "tags": []
   },
   "outputs": [
    {
     "name": "stdout",
     "output_type": "stream",
     "text": [
      "                            OLS Regression Results                            \n",
      "==============================================================================\n",
      "Dep. Variable:       Avg_Spnd_Per_Clm   R-squared:                       0.146\n",
      "Model:                            OLS   Adj. R-squared:                  0.145\n",
      "Method:                 Least Squares   F-statistic:                     2373.\n",
      "Date:                Wed, 28 Jun 2023   Prob (F-statistic):               0.00\n",
      "Time:                        20:56:20   Log-Likelihood:                -26741.\n",
      "No. Observations:               12740   AIC:                         5.349e+04\n",
      "Df Residuals:                   12738   BIC:                         5.350e+04\n",
      "Df Model:                           1                                         \n",
      "Covariance Type:                  HC3                                         \n",
      "==============================================================================\n",
      "                 coef    std err          z      P>|z|      [0.025      0.975]\n",
      "------------------------------------------------------------------------------\n",
      "const          5.8751      0.023    259.235      0.000       5.831       5.920\n",
      "Tot_Mftr      -0.1701      0.003    -48.717      0.000      -0.177      -0.163\n",
      "==============================================================================\n",
      "Omnibus:                      307.728   Durbin-Watson:                   0.417\n",
      "Prob(Omnibus):                  0.000   Jarque-Bera (JB):              323.904\n",
      "Skew:                           0.380   Prob(JB):                     4.62e-71\n",
      "Kurtosis:                       2.820   Cond. No.                         7.19\n",
      "==============================================================================\n",
      "\n",
      "Notes:\n",
      "[1] Standard Errors are heteroscedasticity robust (HC3)\n"
     ]
    }
   ],
   "source": [
    "#Naive Regression on average cost per claim\n",
    "avg_cost_clm = np.log(med_panel_agg['Avg_Spnd_Per_Clm'])\n",
    "cost_clm_on_manuf_ncat = sm.OLS(avg_cost_clm, num_manuf_ncat)\n",
    "#Heteroskedasticity robust SE\n",
    "cost_clm_results = cost_clm_on_manuf_ncat.fit(cov_type='HC3')\n",
    "print(cost_clm_results.summary())"
   ]
  },
  {
   "cell_type": "code",
   "execution_count": 58,
   "id": "c1ab1a0f-695c-4c76-b803-9daaa2f4a6e5",
   "metadata": {
    "tags": []
   },
   "outputs": [],
   "source": [
    "#Generates LaTeX table code for regression table\n",
    "cost_clm = Stargazer([cost_clm_results])\n",
    "#print(cost_clm.render_latex())"
   ]
  },
  {
   "cell_type": "code",
   "execution_count": 59,
   "id": "041dbffd-fd6a-4a70-8312-5059acad9412",
   "metadata": {
    "tags": []
   },
   "outputs": [
    {
     "name": "stdout",
     "output_type": "stream",
     "text": [
      "                            OLS Regression Results                            \n",
      "==============================================================================\n",
      "Dep. Variable:             Tot_Spndng   R-squared:                       0.079\n",
      "Model:                            OLS   Adj. R-squared:                  0.079\n",
      "Method:                 Least Squares   F-statistic:                     2675.\n",
      "Date:                Wed, 28 Jun 2023   Prob (F-statistic):               0.00\n",
      "Time:                        20:56:20   Log-Likelihood:                -29518.\n",
      "No. Observations:               12740   AIC:                         5.904e+04\n",
      "Df Residuals:                   12738   BIC:                         5.905e+04\n",
      "Df Model:                           1                                         \n",
      "Covariance Type:                  HC3                                         \n",
      "==============================================================================\n",
      "                 coef    std err          z      P>|z|      [0.025      0.975]\n",
      "------------------------------------------------------------------------------\n",
      "const         14.0474      0.028    499.588      0.000      13.992      14.103\n",
      "Tot_Mftr       0.1503      0.003     51.717      0.000       0.145       0.156\n",
      "==============================================================================\n",
      "Omnibus:                        7.885   Durbin-Watson:                   0.490\n",
      "Prob(Omnibus):                  0.019   Jarque-Bera (JB):                7.844\n",
      "Skew:                           0.052   Prob(JB):                       0.0198\n",
      "Kurtosis:                       2.938   Cond. No.                         7.19\n",
      "==============================================================================\n",
      "\n",
      "Notes:\n",
      "[1] Standard Errors are heteroscedasticity robust (HC3)\n"
     ]
    }
   ],
   "source": [
    "tot_cost_tf = np.log(med_panel_agg['Tot_Spndng'])\n",
    "tot_cost_on_manuf_tf_ncat_naive = sm.OLS(tot_cost_tf, num_manuf_ncat)\n",
    "#Heteroskedasticity robust SE\n",
    "tot_cost_res = tot_cost_on_manuf_tf_ncat_naive.fit(cov_type='HC3')\n",
    "print(tot_cost_res.summary())"
   ]
  },
  {
   "cell_type": "code",
   "execution_count": 60,
   "id": "9bc64909-58e3-4f53-9529-9cd5768536df",
   "metadata": {
    "tags": []
   },
   "outputs": [],
   "source": [
    "#Generates LaTeX table code for regression table\n",
    "tot_cost = Stargazer([tot_cost_res])\n",
    "#print(tot_cost.render_latex())"
   ]
  },
  {
   "cell_type": "markdown",
   "id": "6f9437d9-a9ae-4a8b-8ddf-b76fd2798698",
   "metadata": {},
   "source": [
    "## Panel Regressions"
   ]
  },
  {
   "cell_type": "code",
   "execution_count": 61,
   "id": "10ce885c-2adf-4052-8ba1-8034216b0b99",
   "metadata": {
    "tags": []
   },
   "outputs": [],
   "source": [
    "time_dummies = pd.get_dummies(med_panel_agg['Year'])\n",
    "time_dummies = time_dummies.drop(columns = 2017)\n",
    "data = med_panel_agg.join(time_dummies)"
   ]
  },
  {
   "cell_type": "code",
   "execution_count": 62,
   "id": "4e5a890c-0c01-4223-9e09-34fe30517672",
   "metadata": {
    "tags": []
   },
   "outputs": [
    {
     "data": {
      "text/html": [
       "<div>\n",
       "<style scoped>\n",
       "    .dataframe tbody tr th:only-of-type {\n",
       "        vertical-align: middle;\n",
       "    }\n",
       "\n",
       "    .dataframe tbody tr th {\n",
       "        vertical-align: top;\n",
       "    }\n",
       "\n",
       "    .dataframe thead th {\n",
       "        text-align: right;\n",
       "    }\n",
       "</style>\n",
       "<table border=\"1\" class=\"dataframe\">\n",
       "  <thead>\n",
       "    <tr style=\"text-align: right;\">\n",
       "      <th></th>\n",
       "      <th>Brnd_Name</th>\n",
       "      <th>Gnrc_Name</th>\n",
       "      <th>Tot_Mftr</th>\n",
       "      <th>Mftr_Name</th>\n",
       "      <th>Year</th>\n",
       "      <th>Tot_Spndng</th>\n",
       "      <th>Tot_Dsg_Unts</th>\n",
       "      <th>Tot_Clms</th>\n",
       "      <th>Avg_Spnd_Per_Dsg_Unt_Wghtd</th>\n",
       "      <th>Avg_Spnd_Per_Clm</th>\n",
       "      <th>Outlier_Flag</th>\n",
       "      <th>2018</th>\n",
       "      <th>2019</th>\n",
       "      <th>2020</th>\n",
       "      <th>2021</th>\n",
       "    </tr>\n",
       "  </thead>\n",
       "  <tbody>\n",
       "    <tr>\n",
       "      <th>60</th>\n",
       "      <td>Abacavir</td>\n",
       "      <td>Abacavir Sulfate</td>\n",
       "      <td>6</td>\n",
       "      <td>Overall</td>\n",
       "      <td>2017</td>\n",
       "      <td>4855932.38</td>\n",
       "      <td>1454929.000</td>\n",
       "      <td>22799.0</td>\n",
       "      <td>3.629691</td>\n",
       "      <td>212.988832</td>\n",
       "      <td>0.0</td>\n",
       "      <td>0</td>\n",
       "      <td>0</td>\n",
       "      <td>0</td>\n",
       "      <td>0</td>\n",
       "    </tr>\n",
       "    <tr>\n",
       "      <th>61</th>\n",
       "      <td>Abacavir</td>\n",
       "      <td>Abacavir Sulfate</td>\n",
       "      <td>6</td>\n",
       "      <td>Overall</td>\n",
       "      <td>2018</td>\n",
       "      <td>3000495.65</td>\n",
       "      <td>1870113.000</td>\n",
       "      <td>20097.0</td>\n",
       "      <td>2.298001</td>\n",
       "      <td>149.300674</td>\n",
       "      <td>0.0</td>\n",
       "      <td>1</td>\n",
       "      <td>0</td>\n",
       "      <td>0</td>\n",
       "      <td>0</td>\n",
       "    </tr>\n",
       "    <tr>\n",
       "      <th>62</th>\n",
       "      <td>Abacavir</td>\n",
       "      <td>Abacavir Sulfate</td>\n",
       "      <td>6</td>\n",
       "      <td>Overall</td>\n",
       "      <td>2019</td>\n",
       "      <td>2446359.81</td>\n",
       "      <td>1621617.000</td>\n",
       "      <td>15983.0</td>\n",
       "      <td>2.277064</td>\n",
       "      <td>153.060114</td>\n",
       "      <td>0.0</td>\n",
       "      <td>0</td>\n",
       "      <td>1</td>\n",
       "      <td>0</td>\n",
       "      <td>0</td>\n",
       "    </tr>\n",
       "    <tr>\n",
       "      <th>63</th>\n",
       "      <td>Abacavir</td>\n",
       "      <td>Abacavir Sulfate</td>\n",
       "      <td>6</td>\n",
       "      <td>Overall</td>\n",
       "      <td>2020</td>\n",
       "      <td>1721889.97</td>\n",
       "      <td>1364799.294</td>\n",
       "      <td>12949.0</td>\n",
       "      <td>1.868880</td>\n",
       "      <td>132.974745</td>\n",
       "      <td>0.0</td>\n",
       "      <td>0</td>\n",
       "      <td>0</td>\n",
       "      <td>1</td>\n",
       "      <td>0</td>\n",
       "    </tr>\n",
       "    <tr>\n",
       "      <th>64</th>\n",
       "      <td>Abacavir</td>\n",
       "      <td>Abacavir Sulfate</td>\n",
       "      <td>6</td>\n",
       "      <td>Overall</td>\n",
       "      <td>2021</td>\n",
       "      <td>1404972.50</td>\n",
       "      <td>1239824.000</td>\n",
       "      <td>10708.0</td>\n",
       "      <td>1.758827</td>\n",
       "      <td>131.207742</td>\n",
       "      <td>0.0</td>\n",
       "      <td>0</td>\n",
       "      <td>0</td>\n",
       "      <td>0</td>\n",
       "      <td>1</td>\n",
       "    </tr>\n",
       "  </tbody>\n",
       "</table>\n",
       "</div>"
      ],
      "text/plain": [
       "   Brnd_Name         Gnrc_Name  Tot_Mftr Mftr_Name  Year  Tot_Spndng  \\\n",
       "60  Abacavir  Abacavir Sulfate         6   Overall  2017  4855932.38   \n",
       "61  Abacavir  Abacavir Sulfate         6   Overall  2018  3000495.65   \n",
       "62  Abacavir  Abacavir Sulfate         6   Overall  2019  2446359.81   \n",
       "63  Abacavir  Abacavir Sulfate         6   Overall  2020  1721889.97   \n",
       "64  Abacavir  Abacavir Sulfate         6   Overall  2021  1404972.50   \n",
       "\n",
       "    Tot_Dsg_Unts  Tot_Clms  Avg_Spnd_Per_Dsg_Unt_Wghtd  Avg_Spnd_Per_Clm  \\\n",
       "60   1454929.000   22799.0                    3.629691        212.988832   \n",
       "61   1870113.000   20097.0                    2.298001        149.300674   \n",
       "62   1621617.000   15983.0                    2.277064        153.060114   \n",
       "63   1364799.294   12949.0                    1.868880        132.974745   \n",
       "64   1239824.000   10708.0                    1.758827        131.207742   \n",
       "\n",
       "    Outlier_Flag  2018  2019  2020  2021  \n",
       "60           0.0     0     0     0     0  \n",
       "61           0.0     1     0     0     0  \n",
       "62           0.0     0     1     0     0  \n",
       "63           0.0     0     0     1     0  \n",
       "64           0.0     0     0     0     1  "
      ]
     },
     "execution_count": 62,
     "metadata": {},
     "output_type": "execute_result"
    }
   ],
   "source": [
    "data.columns = data.columns.astype('str')\n",
    "data.head()"
   ]
  },
  {
   "cell_type": "code",
   "execution_count": 63,
   "id": "909a1ff4-a15d-4dde-8863-52e23f6ebd60",
   "metadata": {
    "tags": []
   },
   "outputs": [
    {
     "name": "stdout",
     "output_type": "stream",
     "text": [
      "                                OLS Regression Results                                \n",
      "======================================================================================\n",
      "Dep. Variable:     Avg_Spnd_Per_Dsg_Unt_Wghtd   R-squared:                       0.127\n",
      "Model:                                    OLS   Adj. R-squared:                  0.127\n",
      "Method:                         Least Squares   F-statistic:                     532.5\n",
      "Date:                        Wed, 28 Jun 2023   Prob (F-statistic):               0.00\n",
      "Time:                                20:56:20   Log-Likelihood:                -29881.\n",
      "No. Observations:                       12740   AIC:                         5.978e+04\n",
      "Df Residuals:                           12733   BIC:                         5.983e+04\n",
      "Df Model:                                   6                                         \n",
      "Covariance Type:                          HC3                                         \n",
      "==============================================================================\n",
      "                 coef    std err          z      P>|z|      [0.025      0.975]\n",
      "------------------------------------------------------------------------------\n",
      "const          3.6550      0.106     34.323      0.000       3.446       3.864\n",
      "Tot_Mftr      -0.1302      0.005    -24.826      0.000      -0.140      -0.120\n",
      "2018          -0.0444      0.071     -0.626      0.531      -0.183       0.095\n",
      "2019           0.1014      0.070      1.442      0.149      -0.036       0.239\n",
      "2020           0.1596      0.070      2.266      0.023       0.022       0.298\n",
      "2021           0.1933      0.070      2.747      0.006       0.055       0.331\n",
      "Tot_Clms      -0.1728      0.011    -15.450      0.000      -0.195      -0.151\n",
      "==============================================================================\n",
      "Omnibus:                      333.444   Durbin-Watson:                   0.404\n",
      "Prob(Omnibus):                  0.000   Jarque-Bera (JB):              365.360\n",
      "Skew:                           0.387   Prob(JB):                     4.60e-80\n",
      "Kurtosis:                       3.301   Cond. No.                         63.9\n",
      "==============================================================================\n",
      "\n",
      "Notes:\n",
      "[1] Standard Errors are heteroscedasticity robust (HC3)\n"
     ]
    }
   ],
   "source": [
    "#Regression including time-fixed effects\n",
    "avg_cost = np.log(med_panel_agg['Avg_Spnd_Per_Dsg_Unt_Wghtd'])\n",
    "features_ncat = sm.add_constant(data[['Tot_Mftr', '2018', '2019', '2020', '2021']].join(np.log(data['Tot_Clms'])))\n",
    "features_ncat = features_ncat.astype('float')\n",
    "cost_on_manuf_tf_ncat = sm.OLS(avg_cost, features_ncat)\n",
    "#Heteroskedasticity robust SE\n",
    "r_costdsg_on_manuf_tf_ncat = cost_on_manuf_tf_ncat.fit(cov_type='HC3')\n",
    "print(r_costdsg_on_manuf_tf_ncat.summary())"
   ]
  },
  {
   "cell_type": "code",
   "execution_count": 64,
   "id": "8fc5b705-23ca-4530-9afa-ea817dad3547",
   "metadata": {
    "tags": []
   },
   "outputs": [],
   "source": [
    "#Generates LaTeX table code for regression table\n",
    "panel_1 = Stargazer([r_costdsg_on_manuf_ncat, r_costdsg_on_manuf_tf_ncat])\n",
    "#print(panel_1.render_latex())"
   ]
  },
  {
   "cell_type": "code",
   "execution_count": 65,
   "id": "fd13435a-8478-4ee5-9fcd-8b2d27b41039",
   "metadata": {
    "tags": []
   },
   "outputs": [
    {
     "name": "stdout",
     "output_type": "stream",
     "text": [
      "                            OLS Regression Results                            \n",
      "==============================================================================\n",
      "Dep. Variable:       Avg_Spnd_Per_Clm   R-squared:                       0.203\n",
      "Model:                            OLS   Adj. R-squared:                  0.202\n",
      "Method:                 Least Squares   F-statistic:                     826.9\n",
      "Date:                Wed, 28 Jun 2023   Prob (F-statistic):               0.00\n",
      "Time:                        20:56:20   Log-Likelihood:                -26301.\n",
      "No. Observations:               12740   AIC:                         5.262e+04\n",
      "Df Residuals:                   12733   BIC:                         5.267e+04\n",
      "Df Model:                           6                                         \n",
      "Covariance Type:                  HC3                                         \n",
      "==============================================================================\n",
      "                 coef    std err          z      P>|z|      [0.025      0.975]\n",
      "------------------------------------------------------------------------------\n",
      "const          7.8286      0.082     95.559      0.000       7.668       7.989\n",
      "Tot_Mftr      -0.0913      0.004    -23.483      0.000      -0.099      -0.084\n",
      "2018          -0.0612      0.054     -1.141      0.254      -0.166       0.044\n",
      "2019           0.0336      0.053      0.631      0.528      -0.071       0.138\n",
      "2020           0.0890      0.053      1.678      0.093      -0.015       0.193\n",
      "2021           0.1577      0.053      2.968      0.003       0.054       0.262\n",
      "Tot_Clms      -0.2451      0.008    -29.356      0.000      -0.261      -0.229\n",
      "==============================================================================\n",
      "Omnibus:                      189.774   Durbin-Watson:                   0.420\n",
      "Prob(Omnibus):                  0.000   Jarque-Bera (JB):              187.311\n",
      "Skew:                           0.273   Prob(JB):                     2.12e-41\n",
      "Kurtosis:                       2.768   Cond. No.                         63.9\n",
      "==============================================================================\n",
      "\n",
      "Notes:\n",
      "[1] Standard Errors are heteroscedasticity robust (HC3)\n"
     ]
    }
   ],
   "source": [
    "#Regression including time-fixed effects\n",
    "avg_cost_clm_tf_ncat = np.log(med_panel_agg['Avg_Spnd_Per_Clm'])\n",
    "cost_clm_on_manuf_tf_ncat = sm.OLS(avg_cost_clm_tf_ncat, features_ncat)\n",
    "#Heteroskedasticity robust SE\n",
    "costclm_tf = cost_clm_on_manuf_tf_ncat.fit(cov_type='HC3')\n",
    "print(costclm_tf.summary())"
   ]
  },
  {
   "cell_type": "code",
   "execution_count": 66,
   "id": "a12d6579-c80b-428f-beb7-ae185a43eeb9",
   "metadata": {
    "tags": []
   },
   "outputs": [],
   "source": [
    "#Generates LaTeX table code for regression table\n",
    "panel_2 = Stargazer([cost_clm_results, costclm_tf])\n",
    "#print(panel_2.render_latex())"
   ]
  },
  {
   "cell_type": "code",
   "execution_count": 67,
   "id": "dd14b9ec-7cbd-4656-8325-ed0863ff91eb",
   "metadata": {
    "tags": []
   },
   "outputs": [
    {
     "name": "stdout",
     "output_type": "stream",
     "text": [
      "                            OLS Regression Results                            \n",
      "==============================================================================\n",
      "Dep. Variable:             Tot_Spndng   R-squared:                       0.444\n",
      "Model:                            OLS   Adj. R-squared:                  0.444\n",
      "Method:                 Least Squares   F-statistic:                     1951.\n",
      "Date:                Wed, 28 Jun 2023   Prob (F-statistic):               0.00\n",
      "Time:                        20:56:20   Log-Likelihood:                -26301.\n",
      "No. Observations:               12740   AIC:                         5.262e+04\n",
      "Df Residuals:                   12733   BIC:                         5.267e+04\n",
      "Df Model:                           6                                         \n",
      "Covariance Type:                  HC3                                         \n",
      "==============================================================================\n",
      "                 coef    std err          z      P>|z|      [0.025      0.975]\n",
      "------------------------------------------------------------------------------\n",
      "const          7.8286      0.082     95.559      0.000       7.668       7.989\n",
      "Tot_Mftr      -0.0913      0.004    -23.483      0.000      -0.099      -0.084\n",
      "2018          -0.0612      0.054     -1.141      0.254      -0.166       0.044\n",
      "2019           0.0336      0.053      0.631      0.528      -0.071       0.138\n",
      "2020           0.0890      0.053      1.678      0.093      -0.015       0.193\n",
      "2021           0.1577      0.053      2.968      0.003       0.054       0.262\n",
      "Tot_Clms       0.7549      0.008     90.430      0.000       0.739       0.771\n",
      "==============================================================================\n",
      "Omnibus:                      189.774   Durbin-Watson:                   0.420\n",
      "Prob(Omnibus):                  0.000   Jarque-Bera (JB):              187.311\n",
      "Skew:                           0.273   Prob(JB):                     2.12e-41\n",
      "Kurtosis:                       2.768   Cond. No.                         63.9\n",
      "==============================================================================\n",
      "\n",
      "Notes:\n",
      "[1] Standard Errors are heteroscedasticity robust (HC3)\n"
     ]
    }
   ],
   "source": [
    "tot_cost_tf = np.log(med_panel_agg['Tot_Spndng'])\n",
    "tot_cost_on_manuf_tf_ncat = sm.OLS(tot_cost_tf, features_ncat)\n",
    "#Heteroskedasticity robust SE\n",
    "tot_cost_tf_res = tot_cost_on_manuf_tf_ncat.fit(cov_type='HC3')\n",
    "print(tot_cost_tf_res.summary())"
   ]
  },
  {
   "cell_type": "code",
   "execution_count": 68,
   "id": "7fe44fc4-80b7-4deb-ad72-0f7fcf44d91d",
   "metadata": {},
   "outputs": [],
   "source": [
    "#Generates LaTeX table code for regression table\n",
    "panel_3 = Stargazer([tot_cost_res, tot_cost_tf_res])\n",
    "#print(panel_3.render_latex())"
   ]
  }
 ],
 "metadata": {
  "kernelspec": {
   "display_name": "Python 3 (ipykernel)",
   "language": "python",
   "name": "python3"
  },
  "language_info": {
   "codemirror_mode": {
    "name": "ipython",
    "version": 3
   },
   "file_extension": ".py",
   "mimetype": "text/x-python",
   "name": "python",
   "nbconvert_exporter": "python",
   "pygments_lexer": "ipython3",
   "version": "3.10.2"
  }
 },
 "nbformat": 4,
 "nbformat_minor": 5
}
